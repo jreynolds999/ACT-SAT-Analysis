{
 "cells": [
  {
   "cell_type": "markdown",
   "metadata": {},
   "source": [
    "# SAT & ACT Analysis"
   ]
  },
  {
   "cell_type": "markdown",
   "metadata": {},
   "source": [
    "### Contents:\n",
    "- [Problem Statement](#Problem-Statement)\n",
    "- [Executive Summary](#Executive-Summary)\n",
    "- [Library Imports](#Library-Imports)\n",
    "- [2017 Data Import and Cleaning](#2017-Data-Import-and-Cleaning)\n",
    "- [2018 Data Import and Cleaning](#2018-Data-Import-and-Cleaning)\n",
    "- [Exploratory Data Analysis](#Exploratory-Data-Analysis)\n",
    "- [Data Visualization](#Visualize-the-data)\n",
    "- [Descriptive and Inferential Statistics](#Descriptive-and-Inferential-Statistics)\n",
    "- [Outside Research](#Outside-Research)\n",
    "- [Conclusions and Recommendations](#Conclusions-and-Recommendations)"
   ]
  },
  {
   "cell_type": "markdown",
   "metadata": {},
   "source": [
    "## Problem Statement\n",
    "In this project, the main focus was to analyze data from a set of data that encompassed the 2017 and 2018 statistics from the SAT and ACT college entrance standardized exams. The focus of this analysis is on the potential relationships between participation rates of each standardized exam, as well as other metrics which may be actionable. "
   ]
  },
  {
   "cell_type": "markdown",
   "metadata": {},
   "source": [
    "## Executive Summary\n",
    "\n",
    "This report is centered around the test taking data available regarding college-bound students in the USA from the years of 2017 to 2018. The population in these datasets is comprised of graduating High School Seniors who took the exams as part of the college application process. The ACT minimum possible score is a 1, the maximum possible score is a 36 and the mean possible is a 21. The SAT minimum score is a 200 for each of the 2 sections for a total minimum of 400, and the maximum score for each of the 2 sections is 800 for a total maximum of 1600. \n",
    "\n",
    "It is clear from looking through this data that state contracts play a large role in the success or failure of high participation rates in a state. Although there is little that can be done in states with existing contracts, there is significant opportunity to grow in non-contract bound states. Next steps would include reaching out to those states with no contract in place for the ACT, which include: Alaska, Arizona, Iowa, Kansas, New Mexico, Oregon, South Dakota and West Virginia."
   ]
  },
  {
   "cell_type": "markdown",
   "metadata": {},
   "source": [
    "### Library Imports"
   ]
  },
  {
   "cell_type": "code",
   "execution_count": 1,
   "metadata": {},
   "outputs": [],
   "source": [
    "#Imports:\n",
    "import pandas as pd\n",
    "import seaborn as sns\n",
    "import matplotlib.pyplot as plt\n",
    "import numpy as np"
   ]
  },
  {
   "cell_type": "markdown",
   "metadata": {},
   "source": [
    "## 2017 Data Import and Cleaning"
   ]
  },
  {
   "cell_type": "markdown",
   "metadata": {},
   "source": [
    "#### Read In SAT & ACT  Data"
   ]
  },
  {
   "cell_type": "code",
   "execution_count": 2,
   "metadata": {},
   "outputs": [],
   "source": [
    "sat_2017 = pd.read_csv(\"./data/sat_2017.csv\")\n",
    "act_2017 = pd.read_csv(\"./data/act_2017.csv\")"
   ]
  },
  {
   "cell_type": "markdown",
   "metadata": {},
   "source": [
    "#### Display First 10 Rows of Data\n"
   ]
  },
  {
   "cell_type": "code",
   "execution_count": 3,
   "metadata": {},
   "outputs": [
    {
     "data": {
      "text/html": [
       "<div>\n",
       "<style scoped>\n",
       "    .dataframe tbody tr th:only-of-type {\n",
       "        vertical-align: middle;\n",
       "    }\n",
       "\n",
       "    .dataframe tbody tr th {\n",
       "        vertical-align: top;\n",
       "    }\n",
       "\n",
       "    .dataframe thead th {\n",
       "        text-align: right;\n",
       "    }\n",
       "</style>\n",
       "<table border=\"1\" class=\"dataframe\">\n",
       "  <thead>\n",
       "    <tr style=\"text-align: right;\">\n",
       "      <th></th>\n",
       "      <th>State</th>\n",
       "      <th>Participation</th>\n",
       "      <th>Evidence-Based Reading and Writing</th>\n",
       "      <th>Math</th>\n",
       "      <th>Total</th>\n",
       "    </tr>\n",
       "  </thead>\n",
       "  <tbody>\n",
       "    <tr>\n",
       "      <th>0</th>\n",
       "      <td>Alabama</td>\n",
       "      <td>5%</td>\n",
       "      <td>593</td>\n",
       "      <td>572</td>\n",
       "      <td>1165</td>\n",
       "    </tr>\n",
       "    <tr>\n",
       "      <th>1</th>\n",
       "      <td>Alaska</td>\n",
       "      <td>38%</td>\n",
       "      <td>547</td>\n",
       "      <td>533</td>\n",
       "      <td>1080</td>\n",
       "    </tr>\n",
       "    <tr>\n",
       "      <th>2</th>\n",
       "      <td>Arizona</td>\n",
       "      <td>30%</td>\n",
       "      <td>563</td>\n",
       "      <td>553</td>\n",
       "      <td>1116</td>\n",
       "    </tr>\n",
       "    <tr>\n",
       "      <th>3</th>\n",
       "      <td>Arkansas</td>\n",
       "      <td>3%</td>\n",
       "      <td>614</td>\n",
       "      <td>594</td>\n",
       "      <td>1208</td>\n",
       "    </tr>\n",
       "    <tr>\n",
       "      <th>4</th>\n",
       "      <td>California</td>\n",
       "      <td>53%</td>\n",
       "      <td>531</td>\n",
       "      <td>524</td>\n",
       "      <td>1055</td>\n",
       "    </tr>\n",
       "    <tr>\n",
       "      <th>5</th>\n",
       "      <td>Colorado</td>\n",
       "      <td>11%</td>\n",
       "      <td>606</td>\n",
       "      <td>595</td>\n",
       "      <td>1201</td>\n",
       "    </tr>\n",
       "    <tr>\n",
       "      <th>6</th>\n",
       "      <td>Connecticut</td>\n",
       "      <td>100%</td>\n",
       "      <td>530</td>\n",
       "      <td>512</td>\n",
       "      <td>1041</td>\n",
       "    </tr>\n",
       "    <tr>\n",
       "      <th>7</th>\n",
       "      <td>Delaware</td>\n",
       "      <td>100%</td>\n",
       "      <td>503</td>\n",
       "      <td>492</td>\n",
       "      <td>996</td>\n",
       "    </tr>\n",
       "    <tr>\n",
       "      <th>8</th>\n",
       "      <td>District of Columbia</td>\n",
       "      <td>100%</td>\n",
       "      <td>482</td>\n",
       "      <td>468</td>\n",
       "      <td>950</td>\n",
       "    </tr>\n",
       "    <tr>\n",
       "      <th>9</th>\n",
       "      <td>Florida</td>\n",
       "      <td>83%</td>\n",
       "      <td>520</td>\n",
       "      <td>497</td>\n",
       "      <td>1017</td>\n",
       "    </tr>\n",
       "  </tbody>\n",
       "</table>\n",
       "</div>"
      ],
      "text/plain": [
       "                  State Participation  Evidence-Based Reading and Writing  \\\n",
       "0               Alabama            5%                                 593   \n",
       "1                Alaska           38%                                 547   \n",
       "2               Arizona           30%                                 563   \n",
       "3              Arkansas            3%                                 614   \n",
       "4            California           53%                                 531   \n",
       "5              Colorado           11%                                 606   \n",
       "6           Connecticut          100%                                 530   \n",
       "7              Delaware          100%                                 503   \n",
       "8  District of Columbia          100%                                 482   \n",
       "9               Florida           83%                                 520   \n",
       "\n",
       "   Math  Total  \n",
       "0   572   1165  \n",
       "1   533   1080  \n",
       "2   553   1116  \n",
       "3   594   1208  \n",
       "4   524   1055  \n",
       "5   595   1201  \n",
       "6   512   1041  \n",
       "7   492    996  \n",
       "8   468    950  \n",
       "9   497   1017  "
      ]
     },
     "execution_count": 3,
     "metadata": {},
     "output_type": "execute_result"
    }
   ],
   "source": [
    "sat_2017.head(10)"
   ]
  },
  {
   "cell_type": "code",
   "execution_count": 4,
   "metadata": {},
   "outputs": [
    {
     "data": {
      "text/html": [
       "<div>\n",
       "<style scoped>\n",
       "    .dataframe tbody tr th:only-of-type {\n",
       "        vertical-align: middle;\n",
       "    }\n",
       "\n",
       "    .dataframe tbody tr th {\n",
       "        vertical-align: top;\n",
       "    }\n",
       "\n",
       "    .dataframe thead th {\n",
       "        text-align: right;\n",
       "    }\n",
       "</style>\n",
       "<table border=\"1\" class=\"dataframe\">\n",
       "  <thead>\n",
       "    <tr style=\"text-align: right;\">\n",
       "      <th></th>\n",
       "      <th>State</th>\n",
       "      <th>Participation</th>\n",
       "      <th>English</th>\n",
       "      <th>Math</th>\n",
       "      <th>Reading</th>\n",
       "      <th>Science</th>\n",
       "      <th>Composite</th>\n",
       "    </tr>\n",
       "  </thead>\n",
       "  <tbody>\n",
       "    <tr>\n",
       "      <th>0</th>\n",
       "      <td>National</td>\n",
       "      <td>60%</td>\n",
       "      <td>20.3</td>\n",
       "      <td>20.7</td>\n",
       "      <td>21.4</td>\n",
       "      <td>21.0</td>\n",
       "      <td>21.0</td>\n",
       "    </tr>\n",
       "    <tr>\n",
       "      <th>1</th>\n",
       "      <td>Alabama</td>\n",
       "      <td>100%</td>\n",
       "      <td>18.9</td>\n",
       "      <td>18.4</td>\n",
       "      <td>19.7</td>\n",
       "      <td>19.4</td>\n",
       "      <td>19.2</td>\n",
       "    </tr>\n",
       "    <tr>\n",
       "      <th>2</th>\n",
       "      <td>Alaska</td>\n",
       "      <td>65%</td>\n",
       "      <td>18.7</td>\n",
       "      <td>19.8</td>\n",
       "      <td>20.4</td>\n",
       "      <td>19.9</td>\n",
       "      <td>19.8</td>\n",
       "    </tr>\n",
       "    <tr>\n",
       "      <th>3</th>\n",
       "      <td>Arizona</td>\n",
       "      <td>62%</td>\n",
       "      <td>18.6</td>\n",
       "      <td>19.8</td>\n",
       "      <td>20.1</td>\n",
       "      <td>19.8</td>\n",
       "      <td>19.7</td>\n",
       "    </tr>\n",
       "    <tr>\n",
       "      <th>4</th>\n",
       "      <td>Arkansas</td>\n",
       "      <td>100%</td>\n",
       "      <td>18.9</td>\n",
       "      <td>19.0</td>\n",
       "      <td>19.7</td>\n",
       "      <td>19.5</td>\n",
       "      <td>19.4</td>\n",
       "    </tr>\n",
       "    <tr>\n",
       "      <th>5</th>\n",
       "      <td>California</td>\n",
       "      <td>31%</td>\n",
       "      <td>22.5</td>\n",
       "      <td>22.7</td>\n",
       "      <td>23.1</td>\n",
       "      <td>22.2</td>\n",
       "      <td>22.8</td>\n",
       "    </tr>\n",
       "    <tr>\n",
       "      <th>6</th>\n",
       "      <td>Colorado</td>\n",
       "      <td>100%</td>\n",
       "      <td>20.1</td>\n",
       "      <td>20.3</td>\n",
       "      <td>21.2</td>\n",
       "      <td>20.9</td>\n",
       "      <td>20.8</td>\n",
       "    </tr>\n",
       "    <tr>\n",
       "      <th>7</th>\n",
       "      <td>Connecticut</td>\n",
       "      <td>31%</td>\n",
       "      <td>25.5</td>\n",
       "      <td>24.6</td>\n",
       "      <td>25.6</td>\n",
       "      <td>24.6</td>\n",
       "      <td>25.2</td>\n",
       "    </tr>\n",
       "    <tr>\n",
       "      <th>8</th>\n",
       "      <td>Delaware</td>\n",
       "      <td>18%</td>\n",
       "      <td>24.1</td>\n",
       "      <td>23.4</td>\n",
       "      <td>24.8</td>\n",
       "      <td>23.6</td>\n",
       "      <td>24.1</td>\n",
       "    </tr>\n",
       "    <tr>\n",
       "      <th>9</th>\n",
       "      <td>District of Columbia</td>\n",
       "      <td>32%</td>\n",
       "      <td>24.4</td>\n",
       "      <td>23.5</td>\n",
       "      <td>24.9</td>\n",
       "      <td>23.5</td>\n",
       "      <td>24.2</td>\n",
       "    </tr>\n",
       "  </tbody>\n",
       "</table>\n",
       "</div>"
      ],
      "text/plain": [
       "                  State Participation  English  Math  Reading  Science  \\\n",
       "0              National           60%     20.3  20.7     21.4     21.0   \n",
       "1               Alabama          100%     18.9  18.4     19.7     19.4   \n",
       "2                Alaska           65%     18.7  19.8     20.4     19.9   \n",
       "3               Arizona           62%     18.6  19.8     20.1     19.8   \n",
       "4              Arkansas          100%     18.9  19.0     19.7     19.5   \n",
       "5            California           31%     22.5  22.7     23.1     22.2   \n",
       "6              Colorado          100%     20.1  20.3     21.2     20.9   \n",
       "7           Connecticut           31%     25.5  24.6     25.6     24.6   \n",
       "8              Delaware           18%     24.1  23.4     24.8     23.6   \n",
       "9  District of Columbia           32%     24.4  23.5     24.9     23.5   \n",
       "\n",
       "  Composite  \n",
       "0      21.0  \n",
       "1      19.2  \n",
       "2      19.8  \n",
       "3      19.7  \n",
       "4      19.4  \n",
       "5      22.8  \n",
       "6      20.8  \n",
       "7      25.2  \n",
       "8      24.1  \n",
       "9      24.2  "
      ]
     },
     "execution_count": 4,
     "metadata": {},
     "output_type": "execute_result"
    }
   ],
   "source": [
    "act_2017.head(10)"
   ]
  },
  {
   "cell_type": "markdown",
   "metadata": {},
   "source": [
    "#### Description of Data\n",
    " "
   ]
  },
  {
   "cell_type": "markdown",
   "metadata": {},
   "source": [
    "Overall, it appears that the % participation is much higher skewed for the ACT than the SAT, at least in 2017 data. It also appears that most states either prefer one of the tests to require participation, as there are 100% participation rates in some states for SAT or ACT, and then correspondingly extremely low participation for the other test.\n",
    "Additionally it appears that the higher the % participation, the lower the average score (for both tests). This makes sense as the population of the test takers would bring the average down as more mediocre students are forced to take the exams, whereas students who are choosing to take the non-required exam would likely only put in the time, money and effort if they thought they were going to get a high enough score for it to be worth it. This represents a combination of two distinctly separate groups of students: those who are self-selecting due to their investment and belief they will succeed, and those who are forced to take the test as part of state requirements. \n",
    "\n",
    "\n",
    "Both of the datasets appear to not have any missing data in them from looking at null_values through the .info() method, but there are some questionable aspects of the data individually. "
   ]
  },
  {
   "cell_type": "markdown",
   "metadata": {},
   "source": [
    "Answer: Both of the datasets appear to not have any missing data in them from looking at null_values through the .info() method, but there are some questionable aspects of the data individually. "
   ]
  },
  {
   "cell_type": "markdown",
   "metadata": {},
   "source": [
    "#### Issues with the Observations"
   ]
  },
  {
   "cell_type": "markdown",
   "metadata": {},
   "source": [
    "In Maryland for SAT 2017 data, it appears the Math score is a typo with a score of 52, whereas the total is 1060, and the Evidence Based Reading and Writing is 536. This leads me to believe that the correct value for Math is 524, as that would combine with the other score to accurately reflect the total sum value of 1060.\n",
    "\n",
    "In Wyoming for ACT 2017 data, the Composite score is '20.2x' and should be '20.2'\n",
    "\n",
    "In Maryland for ACT 2017, the Science score is '2.3' and should be '23.8'"
   ]
  },
  {
   "cell_type": "markdown",
   "metadata": {},
   "source": [
    "#### Fixing the identified errors"
   ]
  },
  {
   "cell_type": "code",
   "execution_count": 5,
   "metadata": {},
   "outputs": [
    {
     "name": "stderr",
     "output_type": "stream",
     "text": [
      "/anaconda3/lib/python3.7/site-packages/ipykernel_launcher.py:2: SettingWithCopyWarning: \n",
      "A value is trying to be set on a copy of a slice from a DataFrame\n",
      "\n",
      "See the caveats in the documentation: http://pandas.pydata.org/pandas-docs/stable/indexing.html#indexing-view-versus-copy\n",
      "  \n",
      "/anaconda3/lib/python3.7/site-packages/ipykernel_launcher.py:3: SettingWithCopyWarning: \n",
      "A value is trying to be set on a copy of a slice from a DataFrame\n",
      "\n",
      "See the caveats in the documentation: http://pandas.pydata.org/pandas-docs/stable/indexing.html#indexing-view-versus-copy\n",
      "  This is separate from the ipykernel package so we can avoid doing imports until\n"
     ]
    }
   ],
   "source": [
    "#Maryland SAT Math score fix from 52 to 524\n",
    "sat_2017['Math'][20] = 524\n",
    "act_2017['Science'][20] = 23.8"
   ]
  },
  {
   "cell_type": "markdown",
   "metadata": {},
   "source": [
    "#### Display the data types of each feature. "
   ]
  },
  {
   "cell_type": "code",
   "execution_count": 6,
   "metadata": {},
   "outputs": [
    {
     "data": {
      "text/plain": [
       "State             object\n",
       "Participation     object\n",
       "English          float64\n",
       "Math             float64\n",
       "Reading          float64\n",
       "Science          float64\n",
       "Composite         object\n",
       "dtype: object"
      ]
     },
     "execution_count": 6,
     "metadata": {},
     "output_type": "execute_result"
    }
   ],
   "source": [
    "act_2017.dtypes"
   ]
  },
  {
   "cell_type": "code",
   "execution_count": 7,
   "metadata": {},
   "outputs": [
    {
     "data": {
      "text/plain": [
       "State                                 object\n",
       "Participation                         object\n",
       "Evidence-Based Reading and Writing     int64\n",
       "Math                                   int64\n",
       "Total                                  int64\n",
       "dtype: object"
      ]
     },
     "execution_count": 7,
     "metadata": {},
     "output_type": "execute_result"
    }
   ],
   "source": [
    "sat_2017.dtypes"
   ]
  },
  {
   "cell_type": "markdown",
   "metadata": {},
   "source": [
    "We can identify that \"Participation\" is not the data type we would expect, as it is an object but should be a float numeric value"
   ]
  },
  {
   "cell_type": "markdown",
   "metadata": {},
   "source": [
    "#### Fixing Incorrect Data Types"
   ]
  },
  {
   "cell_type": "code",
   "execution_count": 8,
   "metadata": {},
   "outputs": [],
   "source": [
    "#defining a function to convert participation type to float\n",
    "def participation_conv(column):\n",
    "    part_conv = column.map(lambda column_cell: float(column_cell.replace('%','')))\n",
    "    return(part_conv)"
   ]
  },
  {
   "cell_type": "code",
   "execution_count": 9,
   "metadata": {},
   "outputs": [
    {
     "data": {
      "text/plain": [
       "State                                  object\n",
       "Participation                         float64\n",
       "Evidence-Based Reading and Writing      int64\n",
       "Math                                    int64\n",
       "Total                                   int64\n",
       "dtype: object"
      ]
     },
     "execution_count": 9,
     "metadata": {},
     "output_type": "execute_result"
    }
   ],
   "source": [
    "sat_2017['Participation'] = participation_conv(sat_2017['Participation'])\n",
    "sat_2017.dtypes"
   ]
  },
  {
   "cell_type": "code",
   "execution_count": 10,
   "metadata": {},
   "outputs": [
    {
     "data": {
      "text/plain": [
       "State             object\n",
       "Participation    float64\n",
       "English          float64\n",
       "Math             float64\n",
       "Reading          float64\n",
       "Science          float64\n",
       "Composite         object\n",
       "dtype: object"
      ]
     },
     "execution_count": 10,
     "metadata": {},
     "output_type": "execute_result"
    }
   ],
   "source": [
    "act_2017['Participation'] = participation_conv(act_2017['Participation'])\n",
    "act_2017.dtypes"
   ]
  },
  {
   "cell_type": "markdown",
   "metadata": {},
   "source": [
    "#### Additional fixes required of individual values preventing other columns from being the appropriate type."
   ]
  },
  {
   "cell_type": "code",
   "execution_count": 11,
   "metadata": {},
   "outputs": [
    {
     "name": "stderr",
     "output_type": "stream",
     "text": [
      "/anaconda3/lib/python3.7/site-packages/ipykernel_launcher.py:2: SettingWithCopyWarning: \n",
      "A value is trying to be set on a copy of a slice from a DataFrame\n",
      "\n",
      "See the caveats in the documentation: http://pandas.pydata.org/pandas-docs/stable/indexing.html#indexing-view-versus-copy\n",
      "  \n"
     ]
    }
   ],
   "source": [
    "#replace 20.2x in Composite column with 20.2\n",
    "act_2017['Composite'][51] = '20.2';\n"
   ]
  },
  {
   "cell_type": "code",
   "execution_count": 12,
   "metadata": {},
   "outputs": [],
   "source": [
    "#converting to float\n",
    "act_2017['Composite'] = act_2017['Composite'].astype(float)"
   ]
  },
  {
   "cell_type": "code",
   "execution_count": 13,
   "metadata": {
    "scrolled": true
   },
   "outputs": [
    {
     "name": "stderr",
     "output_type": "stream",
     "text": [
      "/anaconda3/lib/python3.7/site-packages/ipykernel_launcher.py:2: SettingWithCopyWarning: \n",
      "A value is trying to be set on a copy of a slice from a DataFrame\n",
      "\n",
      "See the caveats in the documentation: http://pandas.pydata.org/pandas-docs/stable/indexing.html#indexing-view-versus-copy\n",
      "  \n"
     ]
    }
   ],
   "source": [
    "#standardizing the spelling of DC\n",
    "act_2017['State'][9]= 'District of Columbia'"
   ]
  },
  {
   "cell_type": "markdown",
   "metadata": {},
   "source": [
    "#### Verify that the columns are now typed appropriately."
   ]
  },
  {
   "cell_type": "code",
   "execution_count": 14,
   "metadata": {},
   "outputs": [
    {
     "name": "stdout",
     "output_type": "stream",
     "text": [
      "<class 'pandas.core.frame.DataFrame'>\n",
      "RangeIndex: 51 entries, 0 to 50\n",
      "Data columns (total 5 columns):\n",
      "State                                 51 non-null object\n",
      "Participation                         51 non-null float64\n",
      "Evidence-Based Reading and Writing    51 non-null int64\n",
      "Math                                  51 non-null int64\n",
      "Total                                 51 non-null int64\n",
      "dtypes: float64(1), int64(3), object(1)\n",
      "memory usage: 2.1+ KB\n"
     ]
    }
   ],
   "source": [
    "sat_2017.info()"
   ]
  },
  {
   "cell_type": "code",
   "execution_count": 15,
   "metadata": {},
   "outputs": [
    {
     "name": "stdout",
     "output_type": "stream",
     "text": [
      "<class 'pandas.core.frame.DataFrame'>\n",
      "RangeIndex: 52 entries, 0 to 51\n",
      "Data columns (total 7 columns):\n",
      "State            52 non-null object\n",
      "Participation    52 non-null float64\n",
      "English          52 non-null float64\n",
      "Math             52 non-null float64\n",
      "Reading          52 non-null float64\n",
      "Science          52 non-null float64\n",
      "Composite        52 non-null float64\n",
      "dtypes: float64(6), object(1)\n",
      "memory usage: 2.9+ KB\n"
     ]
    }
   ],
   "source": [
    "act_2017.info()"
   ]
  },
  {
   "cell_type": "markdown",
   "metadata": {},
   "source": [
    "#### Verify the data types are correct."
   ]
  },
  {
   "cell_type": "code",
   "execution_count": 16,
   "metadata": {},
   "outputs": [
    {
     "data": {
      "text/plain": [
       "State             object\n",
       "Participation    float64\n",
       "English          float64\n",
       "Math             float64\n",
       "Reading          float64\n",
       "Science          float64\n",
       "Composite        float64\n",
       "dtype: object"
      ]
     },
     "execution_count": 16,
     "metadata": {},
     "output_type": "execute_result"
    }
   ],
   "source": [
    "act_2017.dtypes\n"
   ]
  },
  {
   "cell_type": "code",
   "execution_count": 17,
   "metadata": {},
   "outputs": [
    {
     "data": {
      "text/plain": [
       "State                                  object\n",
       "Participation                         float64\n",
       "Evidence-Based Reading and Writing      int64\n",
       "Math                                    int64\n",
       "Total                                   int64\n",
       "dtype: object"
      ]
     },
     "execution_count": 17,
     "metadata": {},
     "output_type": "execute_result"
    }
   ],
   "source": [
    "sat_2017.dtypes"
   ]
  },
  {
   "cell_type": "markdown",
   "metadata": {},
   "source": [
    "#### Renaming Columns\n",
    "Next, we change the names of the columns to more expressive names so that you can tell the difference the SAT columns and the ACT columns. Your solution should map all column names being changed at once (no repeated singular name-changes). "
   ]
  },
  {
   "cell_type": "code",
   "execution_count": 18,
   "metadata": {},
   "outputs": [
    {
     "data": {
      "text/html": [
       "<div>\n",
       "<style scoped>\n",
       "    .dataframe tbody tr th:only-of-type {\n",
       "        vertical-align: middle;\n",
       "    }\n",
       "\n",
       "    .dataframe tbody tr th {\n",
       "        vertical-align: top;\n",
       "    }\n",
       "\n",
       "    .dataframe thead th {\n",
       "        text-align: right;\n",
       "    }\n",
       "</style>\n",
       "<table border=\"1\" class=\"dataframe\">\n",
       "  <thead>\n",
       "    <tr style=\"text-align: right;\">\n",
       "      <th></th>\n",
       "      <th>state</th>\n",
       "      <th>participation</th>\n",
       "      <th>evidence-based_reading_and_writing</th>\n",
       "      <th>math</th>\n",
       "      <th>total</th>\n",
       "    </tr>\n",
       "  </thead>\n",
       "  <tbody>\n",
       "    <tr>\n",
       "      <th>0</th>\n",
       "      <td>Alabama</td>\n",
       "      <td>5.0</td>\n",
       "      <td>593</td>\n",
       "      <td>572</td>\n",
       "      <td>1165</td>\n",
       "    </tr>\n",
       "    <tr>\n",
       "      <th>1</th>\n",
       "      <td>Alaska</td>\n",
       "      <td>38.0</td>\n",
       "      <td>547</td>\n",
       "      <td>533</td>\n",
       "      <td>1080</td>\n",
       "    </tr>\n",
       "    <tr>\n",
       "      <th>2</th>\n",
       "      <td>Arizona</td>\n",
       "      <td>30.0</td>\n",
       "      <td>563</td>\n",
       "      <td>553</td>\n",
       "      <td>1116</td>\n",
       "    </tr>\n",
       "    <tr>\n",
       "      <th>3</th>\n",
       "      <td>Arkansas</td>\n",
       "      <td>3.0</td>\n",
       "      <td>614</td>\n",
       "      <td>594</td>\n",
       "      <td>1208</td>\n",
       "    </tr>\n",
       "    <tr>\n",
       "      <th>4</th>\n",
       "      <td>California</td>\n",
       "      <td>53.0</td>\n",
       "      <td>531</td>\n",
       "      <td>524</td>\n",
       "      <td>1055</td>\n",
       "    </tr>\n",
       "  </tbody>\n",
       "</table>\n",
       "</div>"
      ],
      "text/plain": [
       "        state  participation  evidence-based_reading_and_writing  math  total\n",
       "0     Alabama            5.0                                 593   572   1165\n",
       "1      Alaska           38.0                                 547   533   1080\n",
       "2     Arizona           30.0                                 563   553   1116\n",
       "3    Arkansas            3.0                                 614   594   1208\n",
       "4  California           53.0                                 531   524   1055"
      ]
     },
     "execution_count": 18,
     "metadata": {},
     "output_type": "execute_result"
    }
   ],
   "source": [
    "sat_2017.columns = map(str.lower,sat_2017.columns)\n",
    "sat_2017.columns = sat_2017.columns.str.replace(' ','_')\n",
    "sat_2017.head()"
   ]
  },
  {
   "cell_type": "code",
   "execution_count": 19,
   "metadata": {},
   "outputs": [
    {
     "data": {
      "text/plain": [
       "Index(['sat_2017state', 'sat_2017participation',\n",
       "       'sat_2017evidence-based_reading_and_writing', 'sat_2017math',\n",
       "       'sat_2017total'],\n",
       "      dtype='object')"
      ]
     },
     "execution_count": 19,
     "metadata": {},
     "output_type": "execute_result"
    }
   ],
   "source": [
    "sat_2017.columns = ['sat_2017'+str(col) for col in sat_2017.columns]\n",
    "sat_2017.columns"
   ]
  },
  {
   "cell_type": "code",
   "execution_count": 20,
   "metadata": {},
   "outputs": [
    {
     "data": {
      "text/plain": [
       "Index(['state', 'participation', 'english', 'math', 'reading', 'science',\n",
       "       'composite'],\n",
       "      dtype='object')"
      ]
     },
     "execution_count": 20,
     "metadata": {},
     "output_type": "execute_result"
    }
   ],
   "source": [
    "act_2017.columns = map(str.lower,act_2017.columns)\n",
    "act_2017.columns"
   ]
  },
  {
   "cell_type": "code",
   "execution_count": 21,
   "metadata": {},
   "outputs": [],
   "source": [
    "act_2017.columns = ['act_2017'+str(col) for col in act_2017.columns]"
   ]
  },
  {
   "cell_type": "code",
   "execution_count": 22,
   "metadata": {},
   "outputs": [
    {
     "data": {
      "text/plain": [
       "Index(['act_2017state', 'act_2017participation', 'act_2017english',\n",
       "       'act_2017math', 'act_2017reading', 'act_2017science',\n",
       "       'act_2017composite'],\n",
       "      dtype='object')"
      ]
     },
     "execution_count": 22,
     "metadata": {},
     "output_type": "execute_result"
    }
   ],
   "source": [
    "act_2017.columns"
   ]
  },
  {
   "cell_type": "markdown",
   "metadata": {},
   "source": [
    "#### Creating a data dictionary"
   ]
  },
  {
   "cell_type": "markdown",
   "metadata": {},
   "source": [
    "|Feature|Type|Dataset|Description|\n",
    "|---|---|---|---|\n",
    "'state'|object|2017/18  ACT/SAT|US State from which data was collected|\n",
    "'act_2017participation'|float64|2017 ACT|Percentage of graduating hs seniors taking the ACT in 2017, Scored 1-100\n",
    "'act_2017english'|float64|2017 ACT|Avg test scores by state in English for ACT in 2017, Scored 1-36\n",
    "'act_2017math'|float64|2017 ACT|Avg test scores by state in Math for ACT in 2017, Scored 1-36\n",
    "'act_2017reading'|float64|2017 ACT|Avg test scores by state in Reading for ACT in 2017, Scored 1-36\n",
    "'act_2017science'|float64|2017 ACT|Avg test scores by state in Science for ACT in 2017, Scored 1-36\n",
    "'act_2017composite'|float64|2017 ACT|Avg Composite score by state for ACT in 2017, Scored 1-36\n",
    "'sat_2017participation'|float64|2017 SAT|Percentage of graduating HS Seniors taking the SAT in 2017, Scored 1-100\n",
    "'sat_2017evidence-based_reading_and_writing'|int64|2017 SAT|Avg test scores by state in EBRW for SAT in 2017, Scored 400-800\n",
    "'sat_2017math'|int64|2017 SAT|Avg test scores by state in Math for SAT in 2017, Scored 400-800\n",
    "'sat_2017total'|int64|2017 SAT|Avg total test scores by state for SAT in 2017, Scored 800-1600\n",
    "'act_2018participation'|float64|2018 ACT|Percentage of graduating HS Seniors taking the ACT in 2018, Scored 1-100\n",
    "'act_2018composite'|float64|2018 ACT|Avg composite score for the ACT in 2018, Scored 1-36\n",
    "'sat_2018participation'|float64|2018 SAT|Percentage of graduating HS Seniors taking the SAT in 2018, Scored 1-100\n",
    "'sat_2018evidence-based_reading_and_writing'|int64|2018 SAT|Avg test scores by state in EBRW for SAT in 2018, Scored 400-800\n",
    "'sat_2018math',|int64|2018 SAT|Avg test scores by state in Math for SAT in 2018, Scored 400-800\n",
    "'sat_2018total'|int64|2018 SAT|Avg total test scores by state for SAT in 2018, Scored 800-1600"
   ]
  },
  {
   "cell_type": "code",
   "execution_count": 23,
   "metadata": {},
   "outputs": [
    {
     "name": "stdout",
     "output_type": "stream",
     "text": [
      "['sat_2017state', 'sat_2017participation', 'sat_2017evidence-based_reading_and_writing', 'sat_2017math', 'sat_2017total']\n"
     ]
    }
   ],
   "source": [
    "#create a list of all the columns and print it\n",
    "col_list=[]\n",
    "col_list = list(sat_2017.columns)\n",
    "print(col_list)"
   ]
  },
  {
   "cell_type": "markdown",
   "metadata": {},
   "source": [
    "#### Dropping unnecessary rows\n",
    "\n",
    "One of our dataframes contains an extra row, so we need to identify and remove this from the dataframe."
   ]
  },
  {
   "cell_type": "code",
   "execution_count": 24,
   "metadata": {},
   "outputs": [],
   "source": [
    "#dropping National row in act_2017\n",
    "act_2017.drop(axis=0,     # axis: 0 = row, 1 = column\n",
    "              labels = 0, # this is the first row, labels is for single thing. columns is for multiple\n",
    "              inplace= True) # commit changes"
   ]
  },
  {
   "cell_type": "markdown",
   "metadata": {},
   "source": [
    "#### Merging Dataframes\n",
    "\n",
    "Join the 2017 ACT and SAT dataframes using the state in each dataframe as the key"
   ]
  },
  {
   "cell_type": "code",
   "execution_count": 25,
   "metadata": {},
   "outputs": [
    {
     "data": {
      "text/html": [
       "<div>\n",
       "<style scoped>\n",
       "    .dataframe tbody tr th:only-of-type {\n",
       "        vertical-align: middle;\n",
       "    }\n",
       "\n",
       "    .dataframe tbody tr th {\n",
       "        vertical-align: top;\n",
       "    }\n",
       "\n",
       "    .dataframe thead th {\n",
       "        text-align: right;\n",
       "    }\n",
       "</style>\n",
       "<table border=\"1\" class=\"dataframe\">\n",
       "  <thead>\n",
       "    <tr style=\"text-align: right;\">\n",
       "      <th></th>\n",
       "      <th>act_2017state</th>\n",
       "      <th>act_2017participation</th>\n",
       "      <th>act_2017english</th>\n",
       "      <th>act_2017math</th>\n",
       "      <th>act_2017reading</th>\n",
       "      <th>act_2017science</th>\n",
       "      <th>act_2017composite</th>\n",
       "      <th>sat_2017state</th>\n",
       "      <th>sat_2017participation</th>\n",
       "      <th>sat_2017evidence-based_reading_and_writing</th>\n",
       "      <th>sat_2017math</th>\n",
       "      <th>sat_2017total</th>\n",
       "    </tr>\n",
       "  </thead>\n",
       "  <tbody>\n",
       "    <tr>\n",
       "      <th>0</th>\n",
       "      <td>Alabama</td>\n",
       "      <td>100.0</td>\n",
       "      <td>18.9</td>\n",
       "      <td>18.4</td>\n",
       "      <td>19.7</td>\n",
       "      <td>19.4</td>\n",
       "      <td>19.2</td>\n",
       "      <td>Alabama</td>\n",
       "      <td>5.0</td>\n",
       "      <td>593</td>\n",
       "      <td>572</td>\n",
       "      <td>1165</td>\n",
       "    </tr>\n",
       "    <tr>\n",
       "      <th>1</th>\n",
       "      <td>Alaska</td>\n",
       "      <td>65.0</td>\n",
       "      <td>18.7</td>\n",
       "      <td>19.8</td>\n",
       "      <td>20.4</td>\n",
       "      <td>19.9</td>\n",
       "      <td>19.8</td>\n",
       "      <td>Alaska</td>\n",
       "      <td>38.0</td>\n",
       "      <td>547</td>\n",
       "      <td>533</td>\n",
       "      <td>1080</td>\n",
       "    </tr>\n",
       "    <tr>\n",
       "      <th>2</th>\n",
       "      <td>Arizona</td>\n",
       "      <td>62.0</td>\n",
       "      <td>18.6</td>\n",
       "      <td>19.8</td>\n",
       "      <td>20.1</td>\n",
       "      <td>19.8</td>\n",
       "      <td>19.7</td>\n",
       "      <td>Arizona</td>\n",
       "      <td>30.0</td>\n",
       "      <td>563</td>\n",
       "      <td>553</td>\n",
       "      <td>1116</td>\n",
       "    </tr>\n",
       "    <tr>\n",
       "      <th>3</th>\n",
       "      <td>Arkansas</td>\n",
       "      <td>100.0</td>\n",
       "      <td>18.9</td>\n",
       "      <td>19.0</td>\n",
       "      <td>19.7</td>\n",
       "      <td>19.5</td>\n",
       "      <td>19.4</td>\n",
       "      <td>Arkansas</td>\n",
       "      <td>3.0</td>\n",
       "      <td>614</td>\n",
       "      <td>594</td>\n",
       "      <td>1208</td>\n",
       "    </tr>\n",
       "    <tr>\n",
       "      <th>4</th>\n",
       "      <td>California</td>\n",
       "      <td>31.0</td>\n",
       "      <td>22.5</td>\n",
       "      <td>22.7</td>\n",
       "      <td>23.1</td>\n",
       "      <td>22.2</td>\n",
       "      <td>22.8</td>\n",
       "      <td>California</td>\n",
       "      <td>53.0</td>\n",
       "      <td>531</td>\n",
       "      <td>524</td>\n",
       "      <td>1055</td>\n",
       "    </tr>\n",
       "  </tbody>\n",
       "</table>\n",
       "</div>"
      ],
      "text/plain": [
       "  act_2017state  act_2017participation  act_2017english  act_2017math  \\\n",
       "0       Alabama                  100.0             18.9          18.4   \n",
       "1        Alaska                   65.0             18.7          19.8   \n",
       "2       Arizona                   62.0             18.6          19.8   \n",
       "3      Arkansas                  100.0             18.9          19.0   \n",
       "4    California                   31.0             22.5          22.7   \n",
       "\n",
       "   act_2017reading  act_2017science  act_2017composite sat_2017state  \\\n",
       "0             19.7             19.4               19.2       Alabama   \n",
       "1             20.4             19.9               19.8        Alaska   \n",
       "2             20.1             19.8               19.7       Arizona   \n",
       "3             19.7             19.5               19.4      Arkansas   \n",
       "4             23.1             22.2               22.8    California   \n",
       "\n",
       "   sat_2017participation  sat_2017evidence-based_reading_and_writing  \\\n",
       "0                    5.0                                         593   \n",
       "1                   38.0                                         547   \n",
       "2                   30.0                                         563   \n",
       "3                    3.0                                         614   \n",
       "4                   53.0                                         531   \n",
       "\n",
       "   sat_2017math  sat_2017total  \n",
       "0           572           1165  \n",
       "1           533           1080  \n",
       "2           553           1116  \n",
       "3           594           1208  \n",
       "4           524           1055  "
      ]
     },
     "execution_count": 25,
     "metadata": {},
     "output_type": "execute_result"
    }
   ],
   "source": [
    "#Code:\n",
    "combined_2017 = pd.merge(act_2017, \n",
    "      sat_2017,\n",
    "      left_on = 'act_2017state',\n",
    "      right_on = 'sat_2017state')\n",
    "\n",
    "combined_2017.head()"
   ]
  },
  {
   "cell_type": "markdown",
   "metadata": {},
   "source": [
    "#### Save your cleaned, merged dataframe"
   ]
  },
  {
   "cell_type": "code",
   "execution_count": 26,
   "metadata": {},
   "outputs": [],
   "source": [
    "combined_2017.to_csv('./data/combined_2017.csv')"
   ]
  },
  {
   "cell_type": "markdown",
   "metadata": {},
   "source": [
    "## 2018 Data Import and Cleaning"
   ]
  },
  {
   "cell_type": "code",
   "execution_count": 27,
   "metadata": {},
   "outputs": [],
   "source": [
    "#import the csv files and save as dataframes\n",
    "sat_2018 = pd.read_csv(\"./data/2018 Testing Data - SAT 2018.csv\")\n",
    "act_2018 = pd.read_csv(\"./data/2018 Testing Data - ACT 2018.csv\")\n"
   ]
  },
  {
   "cell_type": "code",
   "execution_count": 28,
   "metadata": {},
   "outputs": [
    {
     "name": "stderr",
     "output_type": "stream",
     "text": [
      "/anaconda3/lib/python3.7/site-packages/ipykernel_launcher.py:2: SettingWithCopyWarning: \n",
      "A value is trying to be set on a copy of a slice from a DataFrame\n",
      "\n",
      "See the caveats in the documentation: http://pandas.pydata.org/pandas-docs/stable/indexing.html#indexing-view-versus-copy\n",
      "  \n",
      "/anaconda3/lib/python3.7/site-packages/ipykernel_launcher.py:3: SettingWithCopyWarning: \n",
      "A value is trying to be set on a copy of a slice from a DataFrame\n",
      "\n",
      "See the caveats in the documentation: http://pandas.pydata.org/pandas-docs/stable/indexing.html#indexing-view-versus-copy\n",
      "  This is separate from the ipykernel package so we can avoid doing imports until\n",
      "/anaconda3/lib/python3.7/site-packages/ipykernel_launcher.py:4: SettingWithCopyWarning: \n",
      "A value is trying to be set on a copy of a slice from a DataFrame\n",
      "\n",
      "See the caveats in the documentation: http://pandas.pydata.org/pandas-docs/stable/indexing.html#indexing-view-versus-copy\n",
      "  after removing the cwd from sys.path.\n"
     ]
    }
   ],
   "source": [
    "#fix errors in names\n",
    "sat_2018['State'][10]= 'Mississippi'\n",
    "sat_2018['State'][37]= 'Oklahoma'\n",
    "act_2018['State'][13]= 'District of Columbia'"
   ]
  },
  {
   "cell_type": "code",
   "execution_count": 29,
   "metadata": {},
   "outputs": [],
   "source": [
    "#Cleaning sat_2018, with function to remove % and change object to float pt.1\n",
    "sat_2018['Participation'] = participation_conv(sat_2018['Participation'])"
   ]
  },
  {
   "cell_type": "code",
   "execution_count": 30,
   "metadata": {},
   "outputs": [],
   "source": [
    "#Cleaning sat_2018, making all column headers lower case and no spaces pt.2\n",
    "sat_2018.columns = map(str.lower,sat_2018.columns)"
   ]
  },
  {
   "cell_type": "code",
   "execution_count": 31,
   "metadata": {},
   "outputs": [],
   "source": [
    "#Cleaning sat_2018, making all column headers lower case and no spacespt.3\n",
    "sat_2018.columns = ['sat_2018'+str(col) for col in sat_2018.columns]\n",
    "sat_2018.columns = sat_2018.columns.str.replace(' ','_')"
   ]
  },
  {
   "cell_type": "code",
   "execution_count": 32,
   "metadata": {},
   "outputs": [],
   "source": [
    "#cleaning act_2018, with function to remove % and change object to float pt.1 \n",
    "act_2018['Participation'] = participation_conv(act_2018['Participation'])"
   ]
  },
  {
   "cell_type": "code",
   "execution_count": 33,
   "metadata": {},
   "outputs": [],
   "source": [
    "#cleaning act_2018, with function to remove % and change object to float pt.2\n",
    "act_2018.columns = map(str.lower,act_2018.columns)"
   ]
  },
  {
   "cell_type": "code",
   "execution_count": 34,
   "metadata": {},
   "outputs": [],
   "source": [
    "#cleaning act_2018, with function to remove % and change object to float pt.3\n",
    "act_2018.columns = ['act_2018'+str(col) for col in act_2018.columns]"
   ]
  },
  {
   "cell_type": "code",
   "execution_count": 35,
   "metadata": {},
   "outputs": [
    {
     "data": {
      "text/html": [
       "<div>\n",
       "<style scoped>\n",
       "    .dataframe tbody tr th:only-of-type {\n",
       "        vertical-align: middle;\n",
       "    }\n",
       "\n",
       "    .dataframe tbody tr th {\n",
       "        vertical-align: top;\n",
       "    }\n",
       "\n",
       "    .dataframe thead th {\n",
       "        text-align: right;\n",
       "    }\n",
       "</style>\n",
       "<table border=\"1\" class=\"dataframe\">\n",
       "  <thead>\n",
       "    <tr style=\"text-align: right;\">\n",
       "      <th></th>\n",
       "      <th>act_2018state</th>\n",
       "      <th>act_2018participation</th>\n",
       "      <th>act_2018composite</th>\n",
       "    </tr>\n",
       "  </thead>\n",
       "  <tbody>\n",
       "    <tr>\n",
       "      <th>0</th>\n",
       "      <td>Connecticut</td>\n",
       "      <td>26.0</td>\n",
       "      <td>25.6</td>\n",
       "    </tr>\n",
       "    <tr>\n",
       "      <th>1</th>\n",
       "      <td>Massachusetts</td>\n",
       "      <td>25.0</td>\n",
       "      <td>25.5</td>\n",
       "    </tr>\n",
       "    <tr>\n",
       "      <th>2</th>\n",
       "      <td>New Hampshire</td>\n",
       "      <td>16.0</td>\n",
       "      <td>25.1</td>\n",
       "    </tr>\n",
       "    <tr>\n",
       "      <th>3</th>\n",
       "      <td>New York</td>\n",
       "      <td>27.0</td>\n",
       "      <td>24.5</td>\n",
       "    </tr>\n",
       "    <tr>\n",
       "      <th>4</th>\n",
       "      <td>Michigan</td>\n",
       "      <td>22.0</td>\n",
       "      <td>24.4</td>\n",
       "    </tr>\n",
       "  </tbody>\n",
       "</table>\n",
       "</div>"
      ],
      "text/plain": [
       "   act_2018state  act_2018participation  act_2018composite\n",
       "0    Connecticut                   26.0               25.6\n",
       "1  Massachusetts                   25.0               25.5\n",
       "2  New Hampshire                   16.0               25.1\n",
       "3       New York                   27.0               24.5\n",
       "4       Michigan                   22.0               24.4"
      ]
     },
     "execution_count": 35,
     "metadata": {},
     "output_type": "execute_result"
    }
   ],
   "source": [
    "act_2018.head()"
   ]
  },
  {
   "cell_type": "markdown",
   "metadata": {},
   "source": [
    "#### Combine your 2017 and 2018 data into a single dataframe"
   ]
  },
  {
   "cell_type": "code",
   "execution_count": 36,
   "metadata": {},
   "outputs": [],
   "source": [
    "#Merging the act_2017 and act_2018\n",
    "combined_2018 = pd.merge(act_2018, \n",
    "      sat_2018,\n",
    "      left_on = 'act_2018state',\n",
    "      right_on = 'sat_2018state')\n",
    "\n"
   ]
  },
  {
   "cell_type": "code",
   "execution_count": 37,
   "metadata": {},
   "outputs": [],
   "source": [
    "combined_2018.to_csv('./data/combined_2018.csv')\n"
   ]
  },
  {
   "cell_type": "code",
   "execution_count": 38,
   "metadata": {},
   "outputs": [],
   "source": [
    "final = pd.merge(combined_2017, \n",
    "      combined_2018,\n",
    "      left_on = 'act_2017state',\n",
    "      right_on = 'act_2018state')\n",
    "\n"
   ]
  },
  {
   "cell_type": "code",
   "execution_count": 39,
   "metadata": {},
   "outputs": [],
   "source": [
    "# rename 'act_2017state' and drop duplicate columns\n",
    "final = final.rename(index=str, columns={\"act_2017state\": \"state\"})\n",
    "final = final.drop(axis=1, columns='sat_2018state')\n",
    "final = final.drop(axis=1, columns='act_2018state')\n",
    "final = final.drop(axis=1, columns='sat_2017state')"
   ]
  },
  {
   "cell_type": "code",
   "execution_count": 40,
   "metadata": {},
   "outputs": [],
   "source": [
    "final.to_csv('./data/final.csv')"
   ]
  },
  {
   "cell_type": "code",
   "execution_count": 41,
   "metadata": {
    "scrolled": true
   },
   "outputs": [
    {
     "data": {
      "text/plain": [
       "Index(['state', 'act_2017participation', 'act_2017english', 'act_2017math',\n",
       "       'act_2017reading', 'act_2017science', 'act_2017composite',\n",
       "       'sat_2017participation', 'sat_2017evidence-based_reading_and_writing',\n",
       "       'sat_2017math', 'sat_2017total', 'act_2018participation',\n",
       "       'act_2018composite', 'sat_2018participation',\n",
       "       'sat_2018evidence-based_reading_and_writing', 'sat_2018math',\n",
       "       'sat_2018total'],\n",
       "      dtype='object')"
      ]
     },
     "execution_count": 41,
     "metadata": {},
     "output_type": "execute_result"
    }
   ],
   "source": [
    "final.columns"
   ]
  },
  {
   "cell_type": "markdown",
   "metadata": {},
   "source": [
    "## Exploratory Data Analysis\n",
    "\n",
    "\n",
    "### Summary Statistics\n"
   ]
  },
  {
   "cell_type": "code",
   "execution_count": 42,
   "metadata": {},
   "outputs": [
    {
     "data": {
      "text/html": [
       "<div>\n",
       "<style scoped>\n",
       "    .dataframe tbody tr th:only-of-type {\n",
       "        vertical-align: middle;\n",
       "    }\n",
       "\n",
       "    .dataframe tbody tr th {\n",
       "        vertical-align: top;\n",
       "    }\n",
       "\n",
       "    .dataframe thead th {\n",
       "        text-align: right;\n",
       "    }\n",
       "</style>\n",
       "<table border=\"1\" class=\"dataframe\">\n",
       "  <thead>\n",
       "    <tr style=\"text-align: right;\">\n",
       "      <th></th>\n",
       "      <th>count</th>\n",
       "      <th>mean</th>\n",
       "      <th>std</th>\n",
       "      <th>min</th>\n",
       "      <th>25%</th>\n",
       "      <th>50%</th>\n",
       "      <th>75%</th>\n",
       "      <th>max</th>\n",
       "    </tr>\n",
       "  </thead>\n",
       "  <tbody>\n",
       "    <tr>\n",
       "      <th>act_2017participation</th>\n",
       "      <td>51.0</td>\n",
       "      <td>65.254902</td>\n",
       "      <td>32.140842</td>\n",
       "      <td>8.0</td>\n",
       "      <td>31.00</td>\n",
       "      <td>69.0</td>\n",
       "      <td>100.00</td>\n",
       "      <td>100.0</td>\n",
       "    </tr>\n",
       "    <tr>\n",
       "      <th>act_2017english</th>\n",
       "      <td>51.0</td>\n",
       "      <td>20.931373</td>\n",
       "      <td>2.353677</td>\n",
       "      <td>16.3</td>\n",
       "      <td>19.00</td>\n",
       "      <td>20.7</td>\n",
       "      <td>23.30</td>\n",
       "      <td>25.5</td>\n",
       "    </tr>\n",
       "    <tr>\n",
       "      <th>act_2017math</th>\n",
       "      <td>51.0</td>\n",
       "      <td>21.182353</td>\n",
       "      <td>1.981989</td>\n",
       "      <td>18.0</td>\n",
       "      <td>19.40</td>\n",
       "      <td>20.9</td>\n",
       "      <td>23.10</td>\n",
       "      <td>25.3</td>\n",
       "    </tr>\n",
       "    <tr>\n",
       "      <th>act_2017reading</th>\n",
       "      <td>51.0</td>\n",
       "      <td>22.013725</td>\n",
       "      <td>2.067271</td>\n",
       "      <td>18.1</td>\n",
       "      <td>20.45</td>\n",
       "      <td>21.8</td>\n",
       "      <td>24.15</td>\n",
       "      <td>26.0</td>\n",
       "    </tr>\n",
       "    <tr>\n",
       "      <th>act_2017science</th>\n",
       "      <td>51.0</td>\n",
       "      <td>21.043137</td>\n",
       "      <td>3.184164</td>\n",
       "      <td>2.3</td>\n",
       "      <td>19.90</td>\n",
       "      <td>21.3</td>\n",
       "      <td>22.75</td>\n",
       "      <td>24.9</td>\n",
       "    </tr>\n",
       "    <tr>\n",
       "      <th>act_2017composite</th>\n",
       "      <td>51.0</td>\n",
       "      <td>21.519608</td>\n",
       "      <td>2.020695</td>\n",
       "      <td>17.8</td>\n",
       "      <td>19.80</td>\n",
       "      <td>21.4</td>\n",
       "      <td>23.60</td>\n",
       "      <td>25.5</td>\n",
       "    </tr>\n",
       "    <tr>\n",
       "      <th>sat_2017participation</th>\n",
       "      <td>51.0</td>\n",
       "      <td>39.803922</td>\n",
       "      <td>35.276632</td>\n",
       "      <td>2.0</td>\n",
       "      <td>4.00</td>\n",
       "      <td>38.0</td>\n",
       "      <td>66.00</td>\n",
       "      <td>100.0</td>\n",
       "    </tr>\n",
       "    <tr>\n",
       "      <th>sat_2017evidence-based_reading_and_writing</th>\n",
       "      <td>51.0</td>\n",
       "      <td>569.117647</td>\n",
       "      <td>45.666901</td>\n",
       "      <td>482.0</td>\n",
       "      <td>533.50</td>\n",
       "      <td>559.0</td>\n",
       "      <td>613.00</td>\n",
       "      <td>644.0</td>\n",
       "    </tr>\n",
       "    <tr>\n",
       "      <th>sat_2017math</th>\n",
       "      <td>51.0</td>\n",
       "      <td>556.882353</td>\n",
       "      <td>47.121395</td>\n",
       "      <td>468.0</td>\n",
       "      <td>523.50</td>\n",
       "      <td>548.0</td>\n",
       "      <td>599.00</td>\n",
       "      <td>651.0</td>\n",
       "    </tr>\n",
       "    <tr>\n",
       "      <th>sat_2017total</th>\n",
       "      <td>51.0</td>\n",
       "      <td>1126.098039</td>\n",
       "      <td>92.494812</td>\n",
       "      <td>950.0</td>\n",
       "      <td>1055.50</td>\n",
       "      <td>1107.0</td>\n",
       "      <td>1212.00</td>\n",
       "      <td>1295.0</td>\n",
       "    </tr>\n",
       "    <tr>\n",
       "      <th>act_2018participation</th>\n",
       "      <td>51.0</td>\n",
       "      <td>61.627451</td>\n",
       "      <td>34.078122</td>\n",
       "      <td>7.0</td>\n",
       "      <td>28.50</td>\n",
       "      <td>66.0</td>\n",
       "      <td>100.00</td>\n",
       "      <td>100.0</td>\n",
       "    </tr>\n",
       "    <tr>\n",
       "      <th>act_2018composite</th>\n",
       "      <td>51.0</td>\n",
       "      <td>21.498039</td>\n",
       "      <td>2.117686</td>\n",
       "      <td>17.7</td>\n",
       "      <td>19.95</td>\n",
       "      <td>21.3</td>\n",
       "      <td>23.65</td>\n",
       "      <td>25.6</td>\n",
       "    </tr>\n",
       "    <tr>\n",
       "      <th>sat_2018participation</th>\n",
       "      <td>51.0</td>\n",
       "      <td>45.745098</td>\n",
       "      <td>37.314256</td>\n",
       "      <td>2.0</td>\n",
       "      <td>4.50</td>\n",
       "      <td>52.0</td>\n",
       "      <td>77.50</td>\n",
       "      <td>100.0</td>\n",
       "    </tr>\n",
       "    <tr>\n",
       "      <th>sat_2018evidence-based_reading_and_writing</th>\n",
       "      <td>51.0</td>\n",
       "      <td>563.686275</td>\n",
       "      <td>47.502627</td>\n",
       "      <td>480.0</td>\n",
       "      <td>534.50</td>\n",
       "      <td>552.0</td>\n",
       "      <td>610.50</td>\n",
       "      <td>643.0</td>\n",
       "    </tr>\n",
       "    <tr>\n",
       "      <th>sat_2018math</th>\n",
       "      <td>51.0</td>\n",
       "      <td>556.235294</td>\n",
       "      <td>47.772623</td>\n",
       "      <td>480.0</td>\n",
       "      <td>522.50</td>\n",
       "      <td>544.0</td>\n",
       "      <td>593.50</td>\n",
       "      <td>655.0</td>\n",
       "    </tr>\n",
       "    <tr>\n",
       "      <th>sat_2018total</th>\n",
       "      <td>51.0</td>\n",
       "      <td>1120.019608</td>\n",
       "      <td>94.155083</td>\n",
       "      <td>977.0</td>\n",
       "      <td>1057.50</td>\n",
       "      <td>1098.0</td>\n",
       "      <td>1204.00</td>\n",
       "      <td>1298.0</td>\n",
       "    </tr>\n",
       "  </tbody>\n",
       "</table>\n",
       "</div>"
      ],
      "text/plain": [
       "                                            count         mean        std  \\\n",
       "act_2017participation                        51.0    65.254902  32.140842   \n",
       "act_2017english                              51.0    20.931373   2.353677   \n",
       "act_2017math                                 51.0    21.182353   1.981989   \n",
       "act_2017reading                              51.0    22.013725   2.067271   \n",
       "act_2017science                              51.0    21.043137   3.184164   \n",
       "act_2017composite                            51.0    21.519608   2.020695   \n",
       "sat_2017participation                        51.0    39.803922  35.276632   \n",
       "sat_2017evidence-based_reading_and_writing   51.0   569.117647  45.666901   \n",
       "sat_2017math                                 51.0   556.882353  47.121395   \n",
       "sat_2017total                                51.0  1126.098039  92.494812   \n",
       "act_2018participation                        51.0    61.627451  34.078122   \n",
       "act_2018composite                            51.0    21.498039   2.117686   \n",
       "sat_2018participation                        51.0    45.745098  37.314256   \n",
       "sat_2018evidence-based_reading_and_writing   51.0   563.686275  47.502627   \n",
       "sat_2018math                                 51.0   556.235294  47.772623   \n",
       "sat_2018total                                51.0  1120.019608  94.155083   \n",
       "\n",
       "                                              min      25%     50%      75%  \\\n",
       "act_2017participation                         8.0    31.00    69.0   100.00   \n",
       "act_2017english                              16.3    19.00    20.7    23.30   \n",
       "act_2017math                                 18.0    19.40    20.9    23.10   \n",
       "act_2017reading                              18.1    20.45    21.8    24.15   \n",
       "act_2017science                               2.3    19.90    21.3    22.75   \n",
       "act_2017composite                            17.8    19.80    21.4    23.60   \n",
       "sat_2017participation                         2.0     4.00    38.0    66.00   \n",
       "sat_2017evidence-based_reading_and_writing  482.0   533.50   559.0   613.00   \n",
       "sat_2017math                                468.0   523.50   548.0   599.00   \n",
       "sat_2017total                               950.0  1055.50  1107.0  1212.00   \n",
       "act_2018participation                         7.0    28.50    66.0   100.00   \n",
       "act_2018composite                            17.7    19.95    21.3    23.65   \n",
       "sat_2018participation                         2.0     4.50    52.0    77.50   \n",
       "sat_2018evidence-based_reading_and_writing  480.0   534.50   552.0   610.50   \n",
       "sat_2018math                                480.0   522.50   544.0   593.50   \n",
       "sat_2018total                               977.0  1057.50  1098.0  1204.00   \n",
       "\n",
       "                                               max  \n",
       "act_2017participation                        100.0  \n",
       "act_2017english                               25.5  \n",
       "act_2017math                                  25.3  \n",
       "act_2017reading                               26.0  \n",
       "act_2017science                               24.9  \n",
       "act_2017composite                             25.5  \n",
       "sat_2017participation                        100.0  \n",
       "sat_2017evidence-based_reading_and_writing   644.0  \n",
       "sat_2017math                                 651.0  \n",
       "sat_2017total                               1295.0  \n",
       "act_2018participation                        100.0  \n",
       "act_2018composite                             25.6  \n",
       "sat_2018participation                        100.0  \n",
       "sat_2018evidence-based_reading_and_writing   643.0  \n",
       "sat_2018math                                 655.0  \n",
       "sat_2018total                               1298.0  "
      ]
     },
     "execution_count": 42,
     "metadata": {},
     "output_type": "execute_result"
    }
   ],
   "source": [
    "#Code to transpose the output of pandas `describe` method to create a quick overview of each numeric feature.\n",
    "final.describe().T\n"
   ]
  },
  {
   "cell_type": "code",
   "execution_count": 47,
   "metadata": {},
   "outputs": [],
   "source": [
    "#code for manual standard deviation\n",
    "\n",
    "def list_avg(num_list):\n",
    "    total = 0\n",
    "    for i in num_list:\n",
    "        total += i\n",
    "    return total / len(num_list)\n",
    "\n",
    "\n",
    "def stdev_of_list(nums):\n",
    "    mean_dist = []\n",
    "    square_dist = []\n",
    "    mean = list_avg(nums)\n",
    "    for i in range(0,len(nums)):\n",
    "        mean_dist.append(mean - nums[i])\n",
    "        square_dist.append(mean_dist[i]**2)\n",
    "    avg_sum_squares = sum(square_dist) / (len(square_dist))\n",
    "    return avg_sum_squares**.5"
   ]
  },
  {
   "cell_type": "code",
   "execution_count": null,
   "metadata": {
    "scrolled": false
   },
   "outputs": [],
   "source": [
    "sd = {col.name:stdev_of_list(col) for col in [final[i] for i in final.columns if (final[i].dtype==float) or (final[i].dtype==int)]}"
   ]
  },
  {
   "cell_type": "markdown",
   "metadata": {},
   "source": [
    "Do your manually calculated standard deviations match up with the output from pandas `describe`? What about numpy's `std` method?"
   ]
  },
  {
   "cell_type": "code",
   "execution_count": 113,
   "metadata": {},
   "outputs": [
    {
     "data": {
      "text/plain": [
       "act_2017participation                         31.824176\n",
       "act_2017english                                2.330488\n",
       "act_2017math                                   1.962462\n",
       "act_2017reading                                2.046903\n",
       "act_2017science                                3.152792\n",
       "act_2017composite                              2.000786\n",
       "sat_2017participation                         34.929071\n",
       "sat_2017evidence-based_reading_and_writing    45.216970\n",
       "sat_2017math                                  46.657134\n",
       "sat_2017total                                 91.583511\n",
       "act_2018participation                         33.742369\n",
       "act_2018composite                              2.096822\n",
       "sat_2018participation                         36.946619\n",
       "sat_2018evidence-based_reading_and_writing    47.034610\n",
       "sat_2018math                                  47.301946\n",
       "sat_2018total                                 93.227424\n",
       "dtype: float64"
      ]
     },
     "execution_count": 113,
     "metadata": {},
     "output_type": "execute_result"
    }
   ],
   "source": [
    "#check the numpy standard deviation output compared to function\n",
    "np.std(final)"
   ]
  },
  {
   "cell_type": "code",
   "execution_count": 114,
   "metadata": {},
   "outputs": [
    {
     "data": {
      "text/html": [
       "<div>\n",
       "<style scoped>\n",
       "    .dataframe tbody tr th:only-of-type {\n",
       "        vertical-align: middle;\n",
       "    }\n",
       "\n",
       "    .dataframe tbody tr th {\n",
       "        vertical-align: top;\n",
       "    }\n",
       "\n",
       "    .dataframe thead th {\n",
       "        text-align: right;\n",
       "    }\n",
       "</style>\n",
       "<table border=\"1\" class=\"dataframe\">\n",
       "  <thead>\n",
       "    <tr style=\"text-align: right;\">\n",
       "      <th></th>\n",
       "      <th>act_2017participation</th>\n",
       "      <th>act_2017english</th>\n",
       "      <th>act_2017math</th>\n",
       "      <th>act_2017reading</th>\n",
       "      <th>act_2017science</th>\n",
       "      <th>act_2017composite</th>\n",
       "      <th>sat_2017participation</th>\n",
       "      <th>sat_2017evidence-based_reading_and_writing</th>\n",
       "      <th>sat_2017math</th>\n",
       "      <th>sat_2017total</th>\n",
       "      <th>act_2018participation</th>\n",
       "      <th>act_2018composite</th>\n",
       "      <th>sat_2018participation</th>\n",
       "      <th>sat_2018evidence-based_reading_and_writing</th>\n",
       "      <th>sat_2018math</th>\n",
       "      <th>sat_2018total</th>\n",
       "    </tr>\n",
       "  </thead>\n",
       "  <tbody>\n",
       "    <tr>\n",
       "      <th>count</th>\n",
       "      <td>51.000000</td>\n",
       "      <td>51.000000</td>\n",
       "      <td>51.000000</td>\n",
       "      <td>51.000000</td>\n",
       "      <td>51.000000</td>\n",
       "      <td>51.000000</td>\n",
       "      <td>51.000000</td>\n",
       "      <td>51.000000</td>\n",
       "      <td>51.000000</td>\n",
       "      <td>51.000000</td>\n",
       "      <td>51.000000</td>\n",
       "      <td>51.000000</td>\n",
       "      <td>51.000000</td>\n",
       "      <td>51.000000</td>\n",
       "      <td>51.000000</td>\n",
       "      <td>51.000000</td>\n",
       "    </tr>\n",
       "    <tr>\n",
       "      <th>mean</th>\n",
       "      <td>65.254902</td>\n",
       "      <td>20.931373</td>\n",
       "      <td>21.182353</td>\n",
       "      <td>22.013725</td>\n",
       "      <td>21.043137</td>\n",
       "      <td>21.519608</td>\n",
       "      <td>39.803922</td>\n",
       "      <td>569.117647</td>\n",
       "      <td>556.882353</td>\n",
       "      <td>1126.098039</td>\n",
       "      <td>61.627451</td>\n",
       "      <td>21.498039</td>\n",
       "      <td>45.745098</td>\n",
       "      <td>563.686275</td>\n",
       "      <td>556.235294</td>\n",
       "      <td>1120.019608</td>\n",
       "    </tr>\n",
       "    <tr>\n",
       "      <th>std</th>\n",
       "      <td>32.140842</td>\n",
       "      <td>2.353677</td>\n",
       "      <td>1.981989</td>\n",
       "      <td>2.067271</td>\n",
       "      <td>3.184164</td>\n",
       "      <td>2.020695</td>\n",
       "      <td>35.276632</td>\n",
       "      <td>45.666901</td>\n",
       "      <td>47.121395</td>\n",
       "      <td>92.494812</td>\n",
       "      <td>34.078122</td>\n",
       "      <td>2.117686</td>\n",
       "      <td>37.314256</td>\n",
       "      <td>47.502627</td>\n",
       "      <td>47.772623</td>\n",
       "      <td>94.155083</td>\n",
       "    </tr>\n",
       "    <tr>\n",
       "      <th>min</th>\n",
       "      <td>8.000000</td>\n",
       "      <td>16.300000</td>\n",
       "      <td>18.000000</td>\n",
       "      <td>18.100000</td>\n",
       "      <td>2.300000</td>\n",
       "      <td>17.800000</td>\n",
       "      <td>2.000000</td>\n",
       "      <td>482.000000</td>\n",
       "      <td>468.000000</td>\n",
       "      <td>950.000000</td>\n",
       "      <td>7.000000</td>\n",
       "      <td>17.700000</td>\n",
       "      <td>2.000000</td>\n",
       "      <td>480.000000</td>\n",
       "      <td>480.000000</td>\n",
       "      <td>977.000000</td>\n",
       "    </tr>\n",
       "    <tr>\n",
       "      <th>25%</th>\n",
       "      <td>31.000000</td>\n",
       "      <td>19.000000</td>\n",
       "      <td>19.400000</td>\n",
       "      <td>20.450000</td>\n",
       "      <td>19.900000</td>\n",
       "      <td>19.800000</td>\n",
       "      <td>4.000000</td>\n",
       "      <td>533.500000</td>\n",
       "      <td>523.500000</td>\n",
       "      <td>1055.500000</td>\n",
       "      <td>28.500000</td>\n",
       "      <td>19.950000</td>\n",
       "      <td>4.500000</td>\n",
       "      <td>534.500000</td>\n",
       "      <td>522.500000</td>\n",
       "      <td>1057.500000</td>\n",
       "    </tr>\n",
       "    <tr>\n",
       "      <th>50%</th>\n",
       "      <td>69.000000</td>\n",
       "      <td>20.700000</td>\n",
       "      <td>20.900000</td>\n",
       "      <td>21.800000</td>\n",
       "      <td>21.300000</td>\n",
       "      <td>21.400000</td>\n",
       "      <td>38.000000</td>\n",
       "      <td>559.000000</td>\n",
       "      <td>548.000000</td>\n",
       "      <td>1107.000000</td>\n",
       "      <td>66.000000</td>\n",
       "      <td>21.300000</td>\n",
       "      <td>52.000000</td>\n",
       "      <td>552.000000</td>\n",
       "      <td>544.000000</td>\n",
       "      <td>1098.000000</td>\n",
       "    </tr>\n",
       "    <tr>\n",
       "      <th>75%</th>\n",
       "      <td>100.000000</td>\n",
       "      <td>23.300000</td>\n",
       "      <td>23.100000</td>\n",
       "      <td>24.150000</td>\n",
       "      <td>22.750000</td>\n",
       "      <td>23.600000</td>\n",
       "      <td>66.000000</td>\n",
       "      <td>613.000000</td>\n",
       "      <td>599.000000</td>\n",
       "      <td>1212.000000</td>\n",
       "      <td>100.000000</td>\n",
       "      <td>23.650000</td>\n",
       "      <td>77.500000</td>\n",
       "      <td>610.500000</td>\n",
       "      <td>593.500000</td>\n",
       "      <td>1204.000000</td>\n",
       "    </tr>\n",
       "    <tr>\n",
       "      <th>max</th>\n",
       "      <td>100.000000</td>\n",
       "      <td>25.500000</td>\n",
       "      <td>25.300000</td>\n",
       "      <td>26.000000</td>\n",
       "      <td>24.900000</td>\n",
       "      <td>25.500000</td>\n",
       "      <td>100.000000</td>\n",
       "      <td>644.000000</td>\n",
       "      <td>651.000000</td>\n",
       "      <td>1295.000000</td>\n",
       "      <td>100.000000</td>\n",
       "      <td>25.600000</td>\n",
       "      <td>100.000000</td>\n",
       "      <td>643.000000</td>\n",
       "      <td>655.000000</td>\n",
       "      <td>1298.000000</td>\n",
       "    </tr>\n",
       "  </tbody>\n",
       "</table>\n",
       "</div>"
      ],
      "text/plain": [
       "       act_2017participation  act_2017english  act_2017math  act_2017reading  \\\n",
       "count              51.000000        51.000000     51.000000        51.000000   \n",
       "mean               65.254902        20.931373     21.182353        22.013725   \n",
       "std                32.140842         2.353677      1.981989         2.067271   \n",
       "min                 8.000000        16.300000     18.000000        18.100000   \n",
       "25%                31.000000        19.000000     19.400000        20.450000   \n",
       "50%                69.000000        20.700000     20.900000        21.800000   \n",
       "75%               100.000000        23.300000     23.100000        24.150000   \n",
       "max               100.000000        25.500000     25.300000        26.000000   \n",
       "\n",
       "       act_2017science  act_2017composite  sat_2017participation  \\\n",
       "count        51.000000          51.000000              51.000000   \n",
       "mean         21.043137          21.519608              39.803922   \n",
       "std           3.184164           2.020695              35.276632   \n",
       "min           2.300000          17.800000               2.000000   \n",
       "25%          19.900000          19.800000               4.000000   \n",
       "50%          21.300000          21.400000              38.000000   \n",
       "75%          22.750000          23.600000              66.000000   \n",
       "max          24.900000          25.500000             100.000000   \n",
       "\n",
       "       sat_2017evidence-based_reading_and_writing  sat_2017math  \\\n",
       "count                                   51.000000     51.000000   \n",
       "mean                                   569.117647    556.882353   \n",
       "std                                     45.666901     47.121395   \n",
       "min                                    482.000000    468.000000   \n",
       "25%                                    533.500000    523.500000   \n",
       "50%                                    559.000000    548.000000   \n",
       "75%                                    613.000000    599.000000   \n",
       "max                                    644.000000    651.000000   \n",
       "\n",
       "       sat_2017total  act_2018participation  act_2018composite  \\\n",
       "count      51.000000              51.000000          51.000000   \n",
       "mean     1126.098039              61.627451          21.498039   \n",
       "std        92.494812              34.078122           2.117686   \n",
       "min       950.000000               7.000000          17.700000   \n",
       "25%      1055.500000              28.500000          19.950000   \n",
       "50%      1107.000000              66.000000          21.300000   \n",
       "75%      1212.000000             100.000000          23.650000   \n",
       "max      1295.000000             100.000000          25.600000   \n",
       "\n",
       "       sat_2018participation  sat_2018evidence-based_reading_and_writing  \\\n",
       "count              51.000000                                   51.000000   \n",
       "mean               45.745098                                  563.686275   \n",
       "std                37.314256                                   47.502627   \n",
       "min                 2.000000                                  480.000000   \n",
       "25%                 4.500000                                  534.500000   \n",
       "50%                52.000000                                  552.000000   \n",
       "75%                77.500000                                  610.500000   \n",
       "max               100.000000                                  643.000000   \n",
       "\n",
       "       sat_2018math  sat_2018total  \n",
       "count     51.000000      51.000000  \n",
       "mean     556.235294    1120.019608  \n",
       "std       47.772623      94.155083  \n",
       "min      480.000000     977.000000  \n",
       "25%      522.500000    1057.500000  \n",
       "50%      544.000000    1098.000000  \n",
       "75%      593.500000    1204.000000  \n",
       "max      655.000000    1298.000000  "
      ]
     },
     "execution_count": 114,
     "metadata": {},
     "output_type": "execute_result"
    }
   ],
   "source": [
    "#check the .describe() standard deviation output compared to function\n",
    "final.describe()"
   ]
  },
  {
   "cell_type": "markdown",
   "metadata": {},
   "source": [
    "**Interpretation:** manually derived std is identical to pandas' np.std() method, but slightly different than .describe(), by ~1%, so nearly negligibile."
   ]
  },
  {
   "cell_type": "code",
   "execution_count": 127,
   "metadata": {},
   "outputs": [
    {
     "name": "stdout",
     "output_type": "stream",
     "text": [
      "How many states have >95% participation in 2017 for SAT? 5\n",
      "How many states have >95% participation in 2018 for SAT? 9\n"
     ]
    }
   ],
   "source": [
    "#Which states have the highest/lowest partic. rates \n",
    "#for ACT/SAT 2017/2018?\n",
    "#SAT 2017\n",
    "my_mask1 = final['sat_2017participation'] > 95\n",
    "high_part_states_sat_2017= list(final[my_mask1]['state'])\n",
    "print(\"How many states have >95% participation in 2017 for SAT?\", len(high_part_states_sat_2017))\n",
    "\n",
    "#SAT 2018\n",
    "my_mask2 = final['sat_2018participation'] > 95\n",
    "high_part_states_sat_2018 = list(final[my_mask2]['state'])\n",
    "print(\"How many states have >95% participation in 2018 for SAT?\", len(high_part_states_sat_2018))"
   ]
  },
  {
   "cell_type": "markdown",
   "metadata": {},
   "source": [
    "This was a great year for the SAT participation rates as they enjoyed an 80% increase year over year in state coverage where participation was greater than 95%- increasing from 5 states to 9. That being said, they are still laggards in comparison to the ACT, but have cut the ACT's lead from 3x to only 2x for states in which coverage is greater than 95%."
   ]
  },
  {
   "cell_type": "code",
   "execution_count": 123,
   "metadata": {
    "scrolled": true
   },
   "outputs": [
    {
     "name": "stdout",
     "output_type": "stream",
     "text": [
      "How many states have >95% participation in 2017 for ACT? 18\n",
      "How many states have >95% participation in 2018 for ACT? 19\n"
     ]
    }
   ],
   "source": [
    "#ACT 2017\n",
    "my_mask3 = final['act_2017participation'] > 95\n",
    "high_part_states_act_2017 = list(final[my_mask3]['state'])\n",
    "print(\"How many states have >95% participation in 2017 for ACT?\", len(high_part_states_act_2017))\n",
    "\n",
    "#ACT 2018\n",
    "my_mask4 = final['act_2018participation'] > 95\n",
    "high_part_states_act_2018 = list(final[my_mask4]['state'])\n",
    "print(\"How many states have >95% participation in 2018 for ACT?\", len(high_part_states_act_2018))"
   ]
  },
  {
   "cell_type": "markdown",
   "metadata": {},
   "source": [
    "The ACT has clearly better contracts with states in order to present their test as the standard for college admissions. Although they didn't experience the same rate of growth as their SAT counterparts from '17-'18 (80%), they continued to add to the lead by increasing the >95% participation of US states from 18 to 19 over the same time period."
   ]
  },
  {
   "cell_type": "code",
   "execution_count": 152,
   "metadata": {
    "scrolled": false
   },
   "outputs": [
    {
     "data": {
      "text/html": [
       "<div>\n",
       "<style scoped>\n",
       "    .dataframe tbody tr th:only-of-type {\n",
       "        vertical-align: middle;\n",
       "    }\n",
       "\n",
       "    .dataframe tbody tr th {\n",
       "        vertical-align: top;\n",
       "    }\n",
       "\n",
       "    .dataframe thead th {\n",
       "        text-align: right;\n",
       "    }\n",
       "</style>\n",
       "<table border=\"1\" class=\"dataframe\">\n",
       "  <thead>\n",
       "    <tr style=\"text-align: right;\">\n",
       "      <th></th>\n",
       "      <th>state</th>\n",
       "      <th>act_2017participation</th>\n",
       "      <th>act_2017english</th>\n",
       "      <th>act_2017math</th>\n",
       "      <th>act_2017reading</th>\n",
       "      <th>act_2017science</th>\n",
       "      <th>act_2017composite</th>\n",
       "      <th>sat_2017participation</th>\n",
       "      <th>sat_2017evidence-based_reading_and_writing</th>\n",
       "      <th>sat_2017math</th>\n",
       "      <th>sat_2017total</th>\n",
       "      <th>act_2018participation</th>\n",
       "      <th>act_2018composite</th>\n",
       "      <th>sat_2018participation</th>\n",
       "      <th>sat_2018evidence-based_reading_and_writing</th>\n",
       "      <th>sat_2018math</th>\n",
       "      <th>sat_2018total</th>\n",
       "    </tr>\n",
       "  </thead>\n",
       "  <tbody>\n",
       "    <tr>\n",
       "      <th>6</th>\n",
       "      <td>Connecticut</td>\n",
       "      <td>31.0</td>\n",
       "      <td>25.5</td>\n",
       "      <td>24.6</td>\n",
       "      <td>25.6</td>\n",
       "      <td>24.6</td>\n",
       "      <td>25.2</td>\n",
       "      <td>100.0</td>\n",
       "      <td>530</td>\n",
       "      <td>512</td>\n",
       "      <td>1041</td>\n",
       "      <td>26.0</td>\n",
       "      <td>25.6</td>\n",
       "      <td>100.0</td>\n",
       "      <td>535</td>\n",
       "      <td>519</td>\n",
       "      <td>1053</td>\n",
       "    </tr>\n",
       "    <tr>\n",
       "      <th>7</th>\n",
       "      <td>Delaware</td>\n",
       "      <td>18.0</td>\n",
       "      <td>24.1</td>\n",
       "      <td>23.4</td>\n",
       "      <td>24.8</td>\n",
       "      <td>23.6</td>\n",
       "      <td>24.1</td>\n",
       "      <td>100.0</td>\n",
       "      <td>503</td>\n",
       "      <td>492</td>\n",
       "      <td>996</td>\n",
       "      <td>17.0</td>\n",
       "      <td>23.8</td>\n",
       "      <td>100.0</td>\n",
       "      <td>505</td>\n",
       "      <td>492</td>\n",
       "      <td>998</td>\n",
       "    </tr>\n",
       "    <tr>\n",
       "      <th>8</th>\n",
       "      <td>District of Columbia</td>\n",
       "      <td>32.0</td>\n",
       "      <td>24.4</td>\n",
       "      <td>23.5</td>\n",
       "      <td>24.9</td>\n",
       "      <td>23.5</td>\n",
       "      <td>24.2</td>\n",
       "      <td>100.0</td>\n",
       "      <td>482</td>\n",
       "      <td>468</td>\n",
       "      <td>950</td>\n",
       "      <td>32.0</td>\n",
       "      <td>23.6</td>\n",
       "      <td>92.0</td>\n",
       "      <td>497</td>\n",
       "      <td>480</td>\n",
       "      <td>977</td>\n",
       "    </tr>\n",
       "    <tr>\n",
       "      <th>19</th>\n",
       "      <td>Maine</td>\n",
       "      <td>8.0</td>\n",
       "      <td>24.2</td>\n",
       "      <td>24.0</td>\n",
       "      <td>24.8</td>\n",
       "      <td>23.8</td>\n",
       "      <td>24.3</td>\n",
       "      <td>95.0</td>\n",
       "      <td>513</td>\n",
       "      <td>499</td>\n",
       "      <td>1012</td>\n",
       "      <td>7.0</td>\n",
       "      <td>24.0</td>\n",
       "      <td>99.0</td>\n",
       "      <td>512</td>\n",
       "      <td>501</td>\n",
       "      <td>1013</td>\n",
       "    </tr>\n",
       "    <tr>\n",
       "      <th>21</th>\n",
       "      <td>Massachusetts</td>\n",
       "      <td>29.0</td>\n",
       "      <td>25.4</td>\n",
       "      <td>25.3</td>\n",
       "      <td>25.9</td>\n",
       "      <td>24.7</td>\n",
       "      <td>25.4</td>\n",
       "      <td>76.0</td>\n",
       "      <td>555</td>\n",
       "      <td>551</td>\n",
       "      <td>1107</td>\n",
       "      <td>25.0</td>\n",
       "      <td>25.5</td>\n",
       "      <td>80.0</td>\n",
       "      <td>562</td>\n",
       "      <td>563</td>\n",
       "      <td>1125</td>\n",
       "    </tr>\n",
       "    <tr>\n",
       "      <th>22</th>\n",
       "      <td>Michigan</td>\n",
       "      <td>29.0</td>\n",
       "      <td>24.1</td>\n",
       "      <td>23.7</td>\n",
       "      <td>24.5</td>\n",
       "      <td>23.8</td>\n",
       "      <td>24.1</td>\n",
       "      <td>100.0</td>\n",
       "      <td>509</td>\n",
       "      <td>495</td>\n",
       "      <td>1005</td>\n",
       "      <td>22.0</td>\n",
       "      <td>24.4</td>\n",
       "      <td>100.0</td>\n",
       "      <td>511</td>\n",
       "      <td>499</td>\n",
       "      <td>1011</td>\n",
       "    </tr>\n",
       "    <tr>\n",
       "      <th>29</th>\n",
       "      <td>New Hampshire</td>\n",
       "      <td>18.0</td>\n",
       "      <td>25.4</td>\n",
       "      <td>25.1</td>\n",
       "      <td>26.0</td>\n",
       "      <td>24.9</td>\n",
       "      <td>25.5</td>\n",
       "      <td>96.0</td>\n",
       "      <td>532</td>\n",
       "      <td>520</td>\n",
       "      <td>1052</td>\n",
       "      <td>16.0</td>\n",
       "      <td>25.1</td>\n",
       "      <td>96.0</td>\n",
       "      <td>535</td>\n",
       "      <td>528</td>\n",
       "      <td>1063</td>\n",
       "    </tr>\n",
       "    <tr>\n",
       "      <th>32</th>\n",
       "      <td>New York</td>\n",
       "      <td>31.0</td>\n",
       "      <td>23.8</td>\n",
       "      <td>24.0</td>\n",
       "      <td>24.6</td>\n",
       "      <td>23.9</td>\n",
       "      <td>24.2</td>\n",
       "      <td>67.0</td>\n",
       "      <td>528</td>\n",
       "      <td>523</td>\n",
       "      <td>1052</td>\n",
       "      <td>27.0</td>\n",
       "      <td>24.5</td>\n",
       "      <td>79.0</td>\n",
       "      <td>534</td>\n",
       "      <td>534</td>\n",
       "      <td>1068</td>\n",
       "    </tr>\n",
       "  </tbody>\n",
       "</table>\n",
       "</div>"
      ],
      "text/plain": [
       "                   state  act_2017participation  act_2017english  \\\n",
       "6            Connecticut                   31.0             25.5   \n",
       "7               Delaware                   18.0             24.1   \n",
       "8   District of Columbia                   32.0             24.4   \n",
       "19                 Maine                    8.0             24.2   \n",
       "21         Massachusetts                   29.0             25.4   \n",
       "22              Michigan                   29.0             24.1   \n",
       "29         New Hampshire                   18.0             25.4   \n",
       "32              New York                   31.0             23.8   \n",
       "\n",
       "    act_2017math  act_2017reading  act_2017science  act_2017composite  \\\n",
       "6           24.6             25.6             24.6               25.2   \n",
       "7           23.4             24.8             23.6               24.1   \n",
       "8           23.5             24.9             23.5               24.2   \n",
       "19          24.0             24.8             23.8               24.3   \n",
       "21          25.3             25.9             24.7               25.4   \n",
       "22          23.7             24.5             23.8               24.1   \n",
       "29          25.1             26.0             24.9               25.5   \n",
       "32          24.0             24.6             23.9               24.2   \n",
       "\n",
       "    sat_2017participation  sat_2017evidence-based_reading_and_writing  \\\n",
       "6                   100.0                                         530   \n",
       "7                   100.0                                         503   \n",
       "8                   100.0                                         482   \n",
       "19                   95.0                                         513   \n",
       "21                   76.0                                         555   \n",
       "22                  100.0                                         509   \n",
       "29                   96.0                                         532   \n",
       "32                   67.0                                         528   \n",
       "\n",
       "    sat_2017math  sat_2017total  act_2018participation  act_2018composite  \\\n",
       "6            512           1041                   26.0               25.6   \n",
       "7            492            996                   17.0               23.8   \n",
       "8            468            950                   32.0               23.6   \n",
       "19           499           1012                    7.0               24.0   \n",
       "21           551           1107                   25.0               25.5   \n",
       "22           495           1005                   22.0               24.4   \n",
       "29           520           1052                   16.0               25.1   \n",
       "32           523           1052                   27.0               24.5   \n",
       "\n",
       "    sat_2018participation  sat_2018evidence-based_reading_and_writing  \\\n",
       "6                   100.0                                         535   \n",
       "7                   100.0                                         505   \n",
       "8                    92.0                                         497   \n",
       "19                   99.0                                         512   \n",
       "21                   80.0                                         562   \n",
       "22                  100.0                                         511   \n",
       "29                   96.0                                         535   \n",
       "32                   79.0                                         534   \n",
       "\n",
       "    sat_2018math  sat_2018total  \n",
       "6            519           1053  \n",
       "7            492            998  \n",
       "8            480            977  \n",
       "19           501           1013  \n",
       "21           563           1125  \n",
       "22           499           1011  \n",
       "29           528           1063  \n",
       "32           534           1068  "
      ]
     },
     "execution_count": 152,
     "metadata": {},
     "output_type": "execute_result"
    }
   ],
   "source": [
    "#Which states have the highest/lowest mean total/comp scores for ACT/SAT 2017/2018?\n",
    "#Which states have the highest mean composite scores?\n",
    "mask_act_high= final['act_2017composite'] > 24\n",
    "high_composite_states_2017 = final[mask_act_high]\n",
    "high_composite_states_2017\n"
   ]
  },
  {
   "cell_type": "markdown",
   "metadata": {},
   "source": [
    "The participation rates for top 8 states, as ranked by ACT 2017 Composite scores, was an average of 24.5% with an average Composite score of 24.6. This clearly shows the inverse relationship between ACT participation rates and Composite score averages, as described in the heatmap with a correlation of -0.86. "
   ]
  },
  {
   "cell_type": "code",
   "execution_count": 138,
   "metadata": {
    "scrolled": true
   },
   "outputs": [
    {
     "data": {
      "text/html": [
       "<div>\n",
       "<style scoped>\n",
       "    .dataframe tbody tr th:only-of-type {\n",
       "        vertical-align: middle;\n",
       "    }\n",
       "\n",
       "    .dataframe tbody tr th {\n",
       "        vertical-align: top;\n",
       "    }\n",
       "\n",
       "    .dataframe thead th {\n",
       "        text-align: right;\n",
       "    }\n",
       "</style>\n",
       "<table border=\"1\" class=\"dataframe\">\n",
       "  <thead>\n",
       "    <tr style=\"text-align: right;\">\n",
       "      <th></th>\n",
       "      <th>state</th>\n",
       "      <th>act_2017participation</th>\n",
       "      <th>act_2017english</th>\n",
       "      <th>act_2017math</th>\n",
       "      <th>act_2017reading</th>\n",
       "      <th>act_2017science</th>\n",
       "      <th>act_2017composite</th>\n",
       "      <th>sat_2017participation</th>\n",
       "      <th>sat_2017evidence-based_reading_and_writing</th>\n",
       "      <th>sat_2017math</th>\n",
       "      <th>sat_2017total</th>\n",
       "      <th>act_2018participation</th>\n",
       "      <th>act_2018composite</th>\n",
       "      <th>sat_2018participation</th>\n",
       "      <th>sat_2018evidence-based_reading_and_writing</th>\n",
       "      <th>sat_2018math</th>\n",
       "      <th>sat_2018total</th>\n",
       "    </tr>\n",
       "  </thead>\n",
       "  <tbody>\n",
       "    <tr>\n",
       "      <th>15</th>\n",
       "      <td>Iowa</td>\n",
       "      <td>67.0</td>\n",
       "      <td>21.2</td>\n",
       "      <td>21.3</td>\n",
       "      <td>22.6</td>\n",
       "      <td>22.1</td>\n",
       "      <td>21.9</td>\n",
       "      <td>2.0</td>\n",
       "      <td>641</td>\n",
       "      <td>635</td>\n",
       "      <td>1275</td>\n",
       "      <td>68.0</td>\n",
       "      <td>21.8</td>\n",
       "      <td>3.0</td>\n",
       "      <td>634</td>\n",
       "      <td>631</td>\n",
       "      <td>1265</td>\n",
       "    </tr>\n",
       "    <tr>\n",
       "      <th>16</th>\n",
       "      <td>Kansas</td>\n",
       "      <td>73.0</td>\n",
       "      <td>21.1</td>\n",
       "      <td>21.3</td>\n",
       "      <td>22.3</td>\n",
       "      <td>21.7</td>\n",
       "      <td>21.7</td>\n",
       "      <td>4.0</td>\n",
       "      <td>632</td>\n",
       "      <td>628</td>\n",
       "      <td>1260</td>\n",
       "      <td>71.0</td>\n",
       "      <td>21.6</td>\n",
       "      <td>4.0</td>\n",
       "      <td>633</td>\n",
       "      <td>631</td>\n",
       "      <td>1265</td>\n",
       "    </tr>\n",
       "    <tr>\n",
       "      <th>23</th>\n",
       "      <td>Minnesota</td>\n",
       "      <td>100.0</td>\n",
       "      <td>20.4</td>\n",
       "      <td>21.5</td>\n",
       "      <td>21.8</td>\n",
       "      <td>21.6</td>\n",
       "      <td>21.5</td>\n",
       "      <td>3.0</td>\n",
       "      <td>644</td>\n",
       "      <td>651</td>\n",
       "      <td>1295</td>\n",
       "      <td>99.0</td>\n",
       "      <td>21.3</td>\n",
       "      <td>4.0</td>\n",
       "      <td>643</td>\n",
       "      <td>655</td>\n",
       "      <td>1298</td>\n",
       "    </tr>\n",
       "    <tr>\n",
       "      <th>25</th>\n",
       "      <td>Missouri</td>\n",
       "      <td>100.0</td>\n",
       "      <td>19.8</td>\n",
       "      <td>19.9</td>\n",
       "      <td>20.8</td>\n",
       "      <td>20.5</td>\n",
       "      <td>20.4</td>\n",
       "      <td>3.0</td>\n",
       "      <td>640</td>\n",
       "      <td>631</td>\n",
       "      <td>1271</td>\n",
       "      <td>100.0</td>\n",
       "      <td>20.0</td>\n",
       "      <td>4.0</td>\n",
       "      <td>633</td>\n",
       "      <td>629</td>\n",
       "      <td>1262</td>\n",
       "    </tr>\n",
       "    <tr>\n",
       "      <th>27</th>\n",
       "      <td>Nebraska</td>\n",
       "      <td>84.0</td>\n",
       "      <td>20.9</td>\n",
       "      <td>20.9</td>\n",
       "      <td>21.9</td>\n",
       "      <td>21.5</td>\n",
       "      <td>21.4</td>\n",
       "      <td>3.0</td>\n",
       "      <td>629</td>\n",
       "      <td>625</td>\n",
       "      <td>1253</td>\n",
       "      <td>100.0</td>\n",
       "      <td>20.1</td>\n",
       "      <td>3.0</td>\n",
       "      <td>629</td>\n",
       "      <td>623</td>\n",
       "      <td>1252</td>\n",
       "    </tr>\n",
       "    <tr>\n",
       "      <th>34</th>\n",
       "      <td>North Dakota</td>\n",
       "      <td>98.0</td>\n",
       "      <td>19.0</td>\n",
       "      <td>20.4</td>\n",
       "      <td>20.5</td>\n",
       "      <td>20.6</td>\n",
       "      <td>20.3</td>\n",
       "      <td>2.0</td>\n",
       "      <td>635</td>\n",
       "      <td>621</td>\n",
       "      <td>1256</td>\n",
       "      <td>98.0</td>\n",
       "      <td>20.3</td>\n",
       "      <td>2.0</td>\n",
       "      <td>640</td>\n",
       "      <td>643</td>\n",
       "      <td>1283</td>\n",
       "    </tr>\n",
       "    <tr>\n",
       "      <th>49</th>\n",
       "      <td>Wisconsin</td>\n",
       "      <td>100.0</td>\n",
       "      <td>19.7</td>\n",
       "      <td>20.4</td>\n",
       "      <td>20.6</td>\n",
       "      <td>20.9</td>\n",
       "      <td>20.5</td>\n",
       "      <td>3.0</td>\n",
       "      <td>642</td>\n",
       "      <td>649</td>\n",
       "      <td>1291</td>\n",
       "      <td>100.0</td>\n",
       "      <td>20.5</td>\n",
       "      <td>3.0</td>\n",
       "      <td>641</td>\n",
       "      <td>653</td>\n",
       "      <td>1294</td>\n",
       "    </tr>\n",
       "  </tbody>\n",
       "</table>\n",
       "</div>"
      ],
      "text/plain": [
       "           state  act_2017participation  act_2017english  act_2017math  \\\n",
       "15          Iowa                   67.0             21.2          21.3   \n",
       "16        Kansas                   73.0             21.1          21.3   \n",
       "23     Minnesota                  100.0             20.4          21.5   \n",
       "25      Missouri                  100.0             19.8          19.9   \n",
       "27      Nebraska                   84.0             20.9          20.9   \n",
       "34  North Dakota                   98.0             19.0          20.4   \n",
       "49     Wisconsin                  100.0             19.7          20.4   \n",
       "\n",
       "    act_2017reading  act_2017science  act_2017composite  \\\n",
       "15             22.6             22.1               21.9   \n",
       "16             22.3             21.7               21.7   \n",
       "23             21.8             21.6               21.5   \n",
       "25             20.8             20.5               20.4   \n",
       "27             21.9             21.5               21.4   \n",
       "34             20.5             20.6               20.3   \n",
       "49             20.6             20.9               20.5   \n",
       "\n",
       "    sat_2017participation  sat_2017evidence-based_reading_and_writing  \\\n",
       "15                    2.0                                         641   \n",
       "16                    4.0                                         632   \n",
       "23                    3.0                                         644   \n",
       "25                    3.0                                         640   \n",
       "27                    3.0                                         629   \n",
       "34                    2.0                                         635   \n",
       "49                    3.0                                         642   \n",
       "\n",
       "    sat_2017math  sat_2017total  act_2018participation  act_2018composite  \\\n",
       "15           635           1275                   68.0               21.8   \n",
       "16           628           1260                   71.0               21.6   \n",
       "23           651           1295                   99.0               21.3   \n",
       "25           631           1271                  100.0               20.0   \n",
       "27           625           1253                  100.0               20.1   \n",
       "34           621           1256                   98.0               20.3   \n",
       "49           649           1291                  100.0               20.5   \n",
       "\n",
       "    sat_2018participation  sat_2018evidence-based_reading_and_writing  \\\n",
       "15                    3.0                                         634   \n",
       "16                    4.0                                         633   \n",
       "23                    4.0                                         643   \n",
       "25                    4.0                                         633   \n",
       "27                    3.0                                         629   \n",
       "34                    2.0                                         640   \n",
       "49                    3.0                                         641   \n",
       "\n",
       "    sat_2018math  sat_2018total  \n",
       "15           631           1265  \n",
       "16           631           1265  \n",
       "23           655           1298  \n",
       "25           629           1262  \n",
       "27           623           1252  \n",
       "34           643           1283  \n",
       "49           653           1294  "
      ]
     },
     "execution_count": 138,
     "metadata": {},
     "output_type": "execute_result"
    }
   ],
   "source": [
    "#Which states have the highest mean SAT total scores?\n",
    "mask_sat_high = final['sat_2017total'] > 1250\n",
    "high_total_states_2017 = final[mask_sat_high]\n",
    "high_total_states_2017"
   ]
  },
  {
   "cell_type": "markdown",
   "metadata": {},
   "source": [
    "The states with the highest mean SAT total scores all had correspondingly dismal participation % rates, as all 7 of the 7 lowest had below 5% participation."
   ]
  },
  {
   "cell_type": "code",
   "execution_count": 146,
   "metadata": {},
   "outputs": [
    {
     "data": {
      "text/html": [
       "<div>\n",
       "<style scoped>\n",
       "    .dataframe tbody tr th:only-of-type {\n",
       "        vertical-align: middle;\n",
       "    }\n",
       "\n",
       "    .dataframe tbody tr th {\n",
       "        vertical-align: top;\n",
       "    }\n",
       "\n",
       "    .dataframe thead th {\n",
       "        text-align: right;\n",
       "    }\n",
       "</style>\n",
       "<table border=\"1\" class=\"dataframe\">\n",
       "  <thead>\n",
       "    <tr style=\"text-align: right;\">\n",
       "      <th></th>\n",
       "      <th>state</th>\n",
       "      <th>act_2017participation</th>\n",
       "      <th>act_2017english</th>\n",
       "      <th>act_2017math</th>\n",
       "      <th>act_2017reading</th>\n",
       "      <th>act_2017science</th>\n",
       "      <th>act_2017composite</th>\n",
       "      <th>sat_2017participation</th>\n",
       "      <th>sat_2017evidence-based_reading_and_writing</th>\n",
       "      <th>sat_2017math</th>\n",
       "      <th>sat_2017total</th>\n",
       "      <th>act_2018participation</th>\n",
       "      <th>act_2018composite</th>\n",
       "      <th>sat_2018participation</th>\n",
       "      <th>sat_2018evidence-based_reading_and_writing</th>\n",
       "      <th>sat_2018math</th>\n",
       "      <th>sat_2018total</th>\n",
       "    </tr>\n",
       "  </thead>\n",
       "  <tbody>\n",
       "    <tr>\n",
       "      <th>7</th>\n",
       "      <td>Delaware</td>\n",
       "      <td>18.0</td>\n",
       "      <td>24.1</td>\n",
       "      <td>23.4</td>\n",
       "      <td>24.8</td>\n",
       "      <td>23.6</td>\n",
       "      <td>24.1</td>\n",
       "      <td>100.0</td>\n",
       "      <td>503</td>\n",
       "      <td>492</td>\n",
       "      <td>996</td>\n",
       "      <td>17.0</td>\n",
       "      <td>23.8</td>\n",
       "      <td>100.0</td>\n",
       "      <td>505</td>\n",
       "      <td>492</td>\n",
       "      <td>998</td>\n",
       "    </tr>\n",
       "    <tr>\n",
       "      <th>8</th>\n",
       "      <td>District of Columbia</td>\n",
       "      <td>32.0</td>\n",
       "      <td>24.4</td>\n",
       "      <td>23.5</td>\n",
       "      <td>24.9</td>\n",
       "      <td>23.5</td>\n",
       "      <td>24.2</td>\n",
       "      <td>100.0</td>\n",
       "      <td>482</td>\n",
       "      <td>468</td>\n",
       "      <td>950</td>\n",
       "      <td>32.0</td>\n",
       "      <td>23.6</td>\n",
       "      <td>92.0</td>\n",
       "      <td>497</td>\n",
       "      <td>480</td>\n",
       "      <td>977</td>\n",
       "    </tr>\n",
       "    <tr>\n",
       "      <th>9</th>\n",
       "      <td>Florida</td>\n",
       "      <td>73.0</td>\n",
       "      <td>19.0</td>\n",
       "      <td>19.4</td>\n",
       "      <td>21.0</td>\n",
       "      <td>19.4</td>\n",
       "      <td>19.8</td>\n",
       "      <td>83.0</td>\n",
       "      <td>520</td>\n",
       "      <td>497</td>\n",
       "      <td>1017</td>\n",
       "      <td>66.0</td>\n",
       "      <td>19.9</td>\n",
       "      <td>56.0</td>\n",
       "      <td>550</td>\n",
       "      <td>549</td>\n",
       "      <td>1099</td>\n",
       "    </tr>\n",
       "    <tr>\n",
       "      <th>12</th>\n",
       "      <td>Idaho</td>\n",
       "      <td>38.0</td>\n",
       "      <td>21.9</td>\n",
       "      <td>21.8</td>\n",
       "      <td>23.0</td>\n",
       "      <td>22.1</td>\n",
       "      <td>22.3</td>\n",
       "      <td>93.0</td>\n",
       "      <td>513</td>\n",
       "      <td>493</td>\n",
       "      <td>1005</td>\n",
       "      <td>36.0</td>\n",
       "      <td>22.3</td>\n",
       "      <td>100.0</td>\n",
       "      <td>508</td>\n",
       "      <td>493</td>\n",
       "      <td>1001</td>\n",
       "    </tr>\n",
       "    <tr>\n",
       "      <th>19</th>\n",
       "      <td>Maine</td>\n",
       "      <td>8.0</td>\n",
       "      <td>24.2</td>\n",
       "      <td>24.0</td>\n",
       "      <td>24.8</td>\n",
       "      <td>23.8</td>\n",
       "      <td>24.3</td>\n",
       "      <td>95.0</td>\n",
       "      <td>513</td>\n",
       "      <td>499</td>\n",
       "      <td>1012</td>\n",
       "      <td>7.0</td>\n",
       "      <td>24.0</td>\n",
       "      <td>99.0</td>\n",
       "      <td>512</td>\n",
       "      <td>501</td>\n",
       "      <td>1013</td>\n",
       "    </tr>\n",
       "    <tr>\n",
       "      <th>22</th>\n",
       "      <td>Michigan</td>\n",
       "      <td>29.0</td>\n",
       "      <td>24.1</td>\n",
       "      <td>23.7</td>\n",
       "      <td>24.5</td>\n",
       "      <td>23.8</td>\n",
       "      <td>24.1</td>\n",
       "      <td>100.0</td>\n",
       "      <td>509</td>\n",
       "      <td>495</td>\n",
       "      <td>1005</td>\n",
       "      <td>22.0</td>\n",
       "      <td>24.4</td>\n",
       "      <td>100.0</td>\n",
       "      <td>511</td>\n",
       "      <td>499</td>\n",
       "      <td>1011</td>\n",
       "    </tr>\n",
       "    <tr>\n",
       "      <th>43</th>\n",
       "      <td>Texas</td>\n",
       "      <td>45.0</td>\n",
       "      <td>19.5</td>\n",
       "      <td>20.7</td>\n",
       "      <td>21.1</td>\n",
       "      <td>20.9</td>\n",
       "      <td>20.7</td>\n",
       "      <td>62.0</td>\n",
       "      <td>513</td>\n",
       "      <td>507</td>\n",
       "      <td>1020</td>\n",
       "      <td>41.0</td>\n",
       "      <td>20.6</td>\n",
       "      <td>66.0</td>\n",
       "      <td>520</td>\n",
       "      <td>512</td>\n",
       "      <td>1032</td>\n",
       "    </tr>\n",
       "  </tbody>\n",
       "</table>\n",
       "</div>"
      ],
      "text/plain": [
       "                   state  act_2017participation  act_2017english  \\\n",
       "7               Delaware                   18.0             24.1   \n",
       "8   District of Columbia                   32.0             24.4   \n",
       "9                Florida                   73.0             19.0   \n",
       "12                 Idaho                   38.0             21.9   \n",
       "19                 Maine                    8.0             24.2   \n",
       "22              Michigan                   29.0             24.1   \n",
       "43                 Texas                   45.0             19.5   \n",
       "\n",
       "    act_2017math  act_2017reading  act_2017science  act_2017composite  \\\n",
       "7           23.4             24.8             23.6               24.1   \n",
       "8           23.5             24.9             23.5               24.2   \n",
       "9           19.4             21.0             19.4               19.8   \n",
       "12          21.8             23.0             22.1               22.3   \n",
       "19          24.0             24.8             23.8               24.3   \n",
       "22          23.7             24.5             23.8               24.1   \n",
       "43          20.7             21.1             20.9               20.7   \n",
       "\n",
       "    sat_2017participation  sat_2017evidence-based_reading_and_writing  \\\n",
       "7                   100.0                                         503   \n",
       "8                   100.0                                         482   \n",
       "9                    83.0                                         520   \n",
       "12                   93.0                                         513   \n",
       "19                   95.0                                         513   \n",
       "22                  100.0                                         509   \n",
       "43                   62.0                                         513   \n",
       "\n",
       "    sat_2017math  sat_2017total  act_2018participation  act_2018composite  \\\n",
       "7            492            996                   17.0               23.8   \n",
       "8            468            950                   32.0               23.6   \n",
       "9            497           1017                   66.0               19.9   \n",
       "12           493           1005                   36.0               22.3   \n",
       "19           499           1012                    7.0               24.0   \n",
       "22           495           1005                   22.0               24.4   \n",
       "43           507           1020                   41.0               20.6   \n",
       "\n",
       "    sat_2018participation  sat_2018evidence-based_reading_and_writing  \\\n",
       "7                   100.0                                         505   \n",
       "8                    92.0                                         497   \n",
       "9                    56.0                                         550   \n",
       "12                  100.0                                         508   \n",
       "19                   99.0                                         512   \n",
       "22                  100.0                                         511   \n",
       "43                   66.0                                         520   \n",
       "\n",
       "    sat_2018math  sat_2018total  \n",
       "7            492            998  \n",
       "8            480            977  \n",
       "9            549           1099  \n",
       "12           493           1001  \n",
       "19           501           1013  \n",
       "22           499           1011  \n",
       "43           512           1032  "
      ]
     },
     "execution_count": 146,
     "metadata": {},
     "output_type": "execute_result"
    }
   ],
   "source": [
    "#Which states have the lowest mean SAT total scores?\n",
    "mask_sat_low = final['sat_2017total'] <1040\n",
    "final[mask_sat_low]"
   ]
  },
  {
   "cell_type": "code",
   "execution_count": 151,
   "metadata": {},
   "outputs": [
    {
     "data": {
      "text/html": [
       "<div>\n",
       "<style scoped>\n",
       "    .dataframe tbody tr th:only-of-type {\n",
       "        vertical-align: middle;\n",
       "    }\n",
       "\n",
       "    .dataframe tbody tr th {\n",
       "        vertical-align: top;\n",
       "    }\n",
       "\n",
       "    .dataframe thead th {\n",
       "        text-align: right;\n",
       "    }\n",
       "</style>\n",
       "<table border=\"1\" class=\"dataframe\">\n",
       "  <thead>\n",
       "    <tr style=\"text-align: right;\">\n",
       "      <th></th>\n",
       "      <th>state</th>\n",
       "      <th>act_2017participation</th>\n",
       "      <th>act_2017english</th>\n",
       "      <th>act_2017math</th>\n",
       "      <th>act_2017reading</th>\n",
       "      <th>act_2017science</th>\n",
       "      <th>act_2017composite</th>\n",
       "      <th>sat_2017participation</th>\n",
       "      <th>sat_2017evidence-based_reading_and_writing</th>\n",
       "      <th>sat_2017math</th>\n",
       "      <th>sat_2017total</th>\n",
       "      <th>act_2018participation</th>\n",
       "      <th>act_2018composite</th>\n",
       "      <th>sat_2018participation</th>\n",
       "      <th>sat_2018evidence-based_reading_and_writing</th>\n",
       "      <th>sat_2018math</th>\n",
       "      <th>sat_2018total</th>\n",
       "    </tr>\n",
       "  </thead>\n",
       "  <tbody>\n",
       "    <tr>\n",
       "      <th>0</th>\n",
       "      <td>Alabama</td>\n",
       "      <td>100.0</td>\n",
       "      <td>18.9</td>\n",
       "      <td>18.4</td>\n",
       "      <td>19.7</td>\n",
       "      <td>19.4</td>\n",
       "      <td>19.2</td>\n",
       "      <td>5.0</td>\n",
       "      <td>593</td>\n",
       "      <td>572</td>\n",
       "      <td>1165</td>\n",
       "      <td>100.0</td>\n",
       "      <td>19.1</td>\n",
       "      <td>6.0</td>\n",
       "      <td>595</td>\n",
       "      <td>571</td>\n",
       "      <td>1166</td>\n",
       "    </tr>\n",
       "    <tr>\n",
       "      <th>3</th>\n",
       "      <td>Arkansas</td>\n",
       "      <td>100.0</td>\n",
       "      <td>18.9</td>\n",
       "      <td>19.0</td>\n",
       "      <td>19.7</td>\n",
       "      <td>19.5</td>\n",
       "      <td>19.4</td>\n",
       "      <td>3.0</td>\n",
       "      <td>614</td>\n",
       "      <td>594</td>\n",
       "      <td>1208</td>\n",
       "      <td>100.0</td>\n",
       "      <td>19.4</td>\n",
       "      <td>5.0</td>\n",
       "      <td>592</td>\n",
       "      <td>576</td>\n",
       "      <td>1169</td>\n",
       "    </tr>\n",
       "    <tr>\n",
       "      <th>11</th>\n",
       "      <td>Hawaii</td>\n",
       "      <td>90.0</td>\n",
       "      <td>17.8</td>\n",
       "      <td>19.2</td>\n",
       "      <td>19.2</td>\n",
       "      <td>19.3</td>\n",
       "      <td>19.0</td>\n",
       "      <td>55.0</td>\n",
       "      <td>544</td>\n",
       "      <td>541</td>\n",
       "      <td>1085</td>\n",
       "      <td>89.0</td>\n",
       "      <td>18.9</td>\n",
       "      <td>56.0</td>\n",
       "      <td>480</td>\n",
       "      <td>530</td>\n",
       "      <td>1010</td>\n",
       "    </tr>\n",
       "    <tr>\n",
       "      <th>24</th>\n",
       "      <td>Mississippi</td>\n",
       "      <td>100.0</td>\n",
       "      <td>18.2</td>\n",
       "      <td>18.1</td>\n",
       "      <td>18.8</td>\n",
       "      <td>18.8</td>\n",
       "      <td>18.6</td>\n",
       "      <td>2.0</td>\n",
       "      <td>634</td>\n",
       "      <td>607</td>\n",
       "      <td>1242</td>\n",
       "      <td>100.0</td>\n",
       "      <td>18.6</td>\n",
       "      <td>3.0</td>\n",
       "      <td>630</td>\n",
       "      <td>606</td>\n",
       "      <td>1236</td>\n",
       "    </tr>\n",
       "    <tr>\n",
       "      <th>28</th>\n",
       "      <td>Nevada</td>\n",
       "      <td>100.0</td>\n",
       "      <td>16.3</td>\n",
       "      <td>18.0</td>\n",
       "      <td>18.1</td>\n",
       "      <td>18.2</td>\n",
       "      <td>17.8</td>\n",
       "      <td>26.0</td>\n",
       "      <td>563</td>\n",
       "      <td>553</td>\n",
       "      <td>1116</td>\n",
       "      <td>100.0</td>\n",
       "      <td>17.7</td>\n",
       "      <td>23.0</td>\n",
       "      <td>574</td>\n",
       "      <td>566</td>\n",
       "      <td>1140</td>\n",
       "    </tr>\n",
       "    <tr>\n",
       "      <th>33</th>\n",
       "      <td>North Carolina</td>\n",
       "      <td>100.0</td>\n",
       "      <td>17.8</td>\n",
       "      <td>19.3</td>\n",
       "      <td>19.6</td>\n",
       "      <td>19.3</td>\n",
       "      <td>19.1</td>\n",
       "      <td>49.0</td>\n",
       "      <td>546</td>\n",
       "      <td>535</td>\n",
       "      <td>1081</td>\n",
       "      <td>100.0</td>\n",
       "      <td>19.1</td>\n",
       "      <td>52.0</td>\n",
       "      <td>554</td>\n",
       "      <td>543</td>\n",
       "      <td>1098</td>\n",
       "    </tr>\n",
       "    <tr>\n",
       "      <th>36</th>\n",
       "      <td>Oklahoma</td>\n",
       "      <td>100.0</td>\n",
       "      <td>18.5</td>\n",
       "      <td>18.8</td>\n",
       "      <td>20.1</td>\n",
       "      <td>19.6</td>\n",
       "      <td>19.4</td>\n",
       "      <td>7.0</td>\n",
       "      <td>530</td>\n",
       "      <td>517</td>\n",
       "      <td>1047</td>\n",
       "      <td>100.0</td>\n",
       "      <td>19.3</td>\n",
       "      <td>8.0</td>\n",
       "      <td>541</td>\n",
       "      <td>521</td>\n",
       "      <td>1062</td>\n",
       "    </tr>\n",
       "    <tr>\n",
       "      <th>40</th>\n",
       "      <td>South Carolina</td>\n",
       "      <td>100.0</td>\n",
       "      <td>17.5</td>\n",
       "      <td>18.6</td>\n",
       "      <td>19.1</td>\n",
       "      <td>18.9</td>\n",
       "      <td>18.7</td>\n",
       "      <td>50.0</td>\n",
       "      <td>543</td>\n",
       "      <td>521</td>\n",
       "      <td>1064</td>\n",
       "      <td>100.0</td>\n",
       "      <td>18.3</td>\n",
       "      <td>55.0</td>\n",
       "      <td>547</td>\n",
       "      <td>523</td>\n",
       "      <td>1070</td>\n",
       "    </tr>\n",
       "  </tbody>\n",
       "</table>\n",
       "</div>"
      ],
      "text/plain": [
       "             state  act_2017participation  act_2017english  act_2017math  \\\n",
       "0          Alabama                  100.0             18.9          18.4   \n",
       "3         Arkansas                  100.0             18.9          19.0   \n",
       "11          Hawaii                   90.0             17.8          19.2   \n",
       "24     Mississippi                  100.0             18.2          18.1   \n",
       "28          Nevada                  100.0             16.3          18.0   \n",
       "33  North Carolina                  100.0             17.8          19.3   \n",
       "36        Oklahoma                  100.0             18.5          18.8   \n",
       "40  South Carolina                  100.0             17.5          18.6   \n",
       "\n",
       "    act_2017reading  act_2017science  act_2017composite  \\\n",
       "0              19.7             19.4               19.2   \n",
       "3              19.7             19.5               19.4   \n",
       "11             19.2             19.3               19.0   \n",
       "24             18.8             18.8               18.6   \n",
       "28             18.1             18.2               17.8   \n",
       "33             19.6             19.3               19.1   \n",
       "36             20.1             19.6               19.4   \n",
       "40             19.1             18.9               18.7   \n",
       "\n",
       "    sat_2017participation  sat_2017evidence-based_reading_and_writing  \\\n",
       "0                     5.0                                         593   \n",
       "3                     3.0                                         614   \n",
       "11                   55.0                                         544   \n",
       "24                    2.0                                         634   \n",
       "28                   26.0                                         563   \n",
       "33                   49.0                                         546   \n",
       "36                    7.0                                         530   \n",
       "40                   50.0                                         543   \n",
       "\n",
       "    sat_2017math  sat_2017total  act_2018participation  act_2018composite  \\\n",
       "0            572           1165                  100.0               19.1   \n",
       "3            594           1208                  100.0               19.4   \n",
       "11           541           1085                   89.0               18.9   \n",
       "24           607           1242                  100.0               18.6   \n",
       "28           553           1116                  100.0               17.7   \n",
       "33           535           1081                  100.0               19.1   \n",
       "36           517           1047                  100.0               19.3   \n",
       "40           521           1064                  100.0               18.3   \n",
       "\n",
       "    sat_2018participation  sat_2018evidence-based_reading_and_writing  \\\n",
       "0                     6.0                                         595   \n",
       "3                     5.0                                         592   \n",
       "11                   56.0                                         480   \n",
       "24                    3.0                                         630   \n",
       "28                   23.0                                         574   \n",
       "33                   52.0                                         554   \n",
       "36                    8.0                                         541   \n",
       "40                   55.0                                         547   \n",
       "\n",
       "    sat_2018math  sat_2018total  \n",
       "0            571           1166  \n",
       "3            576           1169  \n",
       "11           530           1010  \n",
       "24           606           1236  \n",
       "28           566           1140  \n",
       "33           543           1098  \n",
       "36           521           1062  \n",
       "40           523           1070  "
      ]
     },
     "execution_count": 151,
     "metadata": {},
     "output_type": "execute_result"
    }
   ],
   "source": [
    "#Which states have the lowest mean ACT composite scores?\n",
    "mask_act_low = final['act_2017composite'] < 19.5\n",
    "final[mask_act_low]"
   ]
  },
  {
   "cell_type": "markdown",
   "metadata": {},
   "source": [
    "The lowest mean ACT Composite scores are all in states that had 100% or close to 100% participation, supporting the idea that as you get closer to 100% participation, you introduce enough mediocrity into the testing pool to generate low mean composite/total test scores."
   ]
  },
  {
   "cell_type": "code",
   "execution_count": 211,
   "metadata": {},
   "outputs": [
    {
     "name": "stderr",
     "output_type": "stream",
     "text": [
      "/anaconda3/lib/python3.7/site-packages/ipykernel_launcher.py:18: UserWarning: Boolean Series key will be reindexed to match DataFrame index.\n"
     ]
    },
    {
     "data": {
      "text/html": [
       "<div>\n",
       "<style scoped>\n",
       "    .dataframe tbody tr th:only-of-type {\n",
       "        vertical-align: middle;\n",
       "    }\n",
       "\n",
       "    .dataframe tbody tr th {\n",
       "        vertical-align: top;\n",
       "    }\n",
       "\n",
       "    .dataframe thead th {\n",
       "        text-align: right;\n",
       "    }\n",
       "</style>\n",
       "<table border=\"1\" class=\"dataframe\">\n",
       "  <thead>\n",
       "    <tr style=\"text-align: right;\">\n",
       "      <th></th>\n",
       "      <th>state</th>\n",
       "      <th>act_2017participation</th>\n",
       "      <th>act_2017english</th>\n",
       "      <th>act_2017math</th>\n",
       "      <th>act_2017reading</th>\n",
       "      <th>act_2017science</th>\n",
       "      <th>act_2017composite</th>\n",
       "      <th>sat_2017participation</th>\n",
       "      <th>sat_2017evidence-based_reading_and_writing</th>\n",
       "      <th>sat_2017math</th>\n",
       "      <th>sat_2017total</th>\n",
       "      <th>act_2018participation</th>\n",
       "      <th>act_2018composite</th>\n",
       "      <th>sat_2018participation</th>\n",
       "      <th>sat_2018evidence-based_reading_and_writing</th>\n",
       "      <th>sat_2018math</th>\n",
       "      <th>sat_2018total</th>\n",
       "    </tr>\n",
       "  </thead>\n",
       "  <tbody>\n",
       "    <tr>\n",
       "      <th>1</th>\n",
       "      <td>Alaska</td>\n",
       "      <td>65.0</td>\n",
       "      <td>18.7</td>\n",
       "      <td>19.8</td>\n",
       "      <td>20.4</td>\n",
       "      <td>19.9</td>\n",
       "      <td>19.8</td>\n",
       "      <td>38.0</td>\n",
       "      <td>547</td>\n",
       "      <td>533</td>\n",
       "      <td>1080</td>\n",
       "      <td>33.0</td>\n",
       "      <td>20.8</td>\n",
       "      <td>43.0</td>\n",
       "      <td>562</td>\n",
       "      <td>544</td>\n",
       "      <td>1106</td>\n",
       "    </tr>\n",
       "    <tr>\n",
       "      <th>2</th>\n",
       "      <td>Arizona</td>\n",
       "      <td>62.0</td>\n",
       "      <td>18.6</td>\n",
       "      <td>19.8</td>\n",
       "      <td>20.1</td>\n",
       "      <td>19.8</td>\n",
       "      <td>19.7</td>\n",
       "      <td>30.0</td>\n",
       "      <td>563</td>\n",
       "      <td>553</td>\n",
       "      <td>1116</td>\n",
       "      <td>66.0</td>\n",
       "      <td>19.2</td>\n",
       "      <td>29.0</td>\n",
       "      <td>577</td>\n",
       "      <td>572</td>\n",
       "      <td>1149</td>\n",
       "    </tr>\n",
       "    <tr>\n",
       "      <th>15</th>\n",
       "      <td>Iowa</td>\n",
       "      <td>67.0</td>\n",
       "      <td>21.2</td>\n",
       "      <td>21.3</td>\n",
       "      <td>22.6</td>\n",
       "      <td>22.1</td>\n",
       "      <td>21.9</td>\n",
       "      <td>2.0</td>\n",
       "      <td>641</td>\n",
       "      <td>635</td>\n",
       "      <td>1275</td>\n",
       "      <td>68.0</td>\n",
       "      <td>21.8</td>\n",
       "      <td>3.0</td>\n",
       "      <td>634</td>\n",
       "      <td>631</td>\n",
       "      <td>1265</td>\n",
       "    </tr>\n",
       "    <tr>\n",
       "      <th>16</th>\n",
       "      <td>Kansas</td>\n",
       "      <td>73.0</td>\n",
       "      <td>21.1</td>\n",
       "      <td>21.3</td>\n",
       "      <td>22.3</td>\n",
       "      <td>21.7</td>\n",
       "      <td>21.7</td>\n",
       "      <td>4.0</td>\n",
       "      <td>632</td>\n",
       "      <td>628</td>\n",
       "      <td>1260</td>\n",
       "      <td>71.0</td>\n",
       "      <td>21.6</td>\n",
       "      <td>4.0</td>\n",
       "      <td>633</td>\n",
       "      <td>631</td>\n",
       "      <td>1265</td>\n",
       "    </tr>\n",
       "    <tr>\n",
       "      <th>31</th>\n",
       "      <td>New Mexico</td>\n",
       "      <td>66.0</td>\n",
       "      <td>18.6</td>\n",
       "      <td>19.4</td>\n",
       "      <td>20.4</td>\n",
       "      <td>20.0</td>\n",
       "      <td>19.7</td>\n",
       "      <td>11.0</td>\n",
       "      <td>577</td>\n",
       "      <td>561</td>\n",
       "      <td>1138</td>\n",
       "      <td>66.0</td>\n",
       "      <td>19.4</td>\n",
       "      <td>16.0</td>\n",
       "      <td>552</td>\n",
       "      <td>540</td>\n",
       "      <td>1093</td>\n",
       "    </tr>\n",
       "    <tr>\n",
       "      <th>37</th>\n",
       "      <td>Oregon</td>\n",
       "      <td>40.0</td>\n",
       "      <td>21.2</td>\n",
       "      <td>21.5</td>\n",
       "      <td>22.4</td>\n",
       "      <td>21.7</td>\n",
       "      <td>21.8</td>\n",
       "      <td>43.0</td>\n",
       "      <td>560</td>\n",
       "      <td>548</td>\n",
       "      <td>1108</td>\n",
       "      <td>42.0</td>\n",
       "      <td>21.3</td>\n",
       "      <td>48.0</td>\n",
       "      <td>564</td>\n",
       "      <td>553</td>\n",
       "      <td>1117</td>\n",
       "    </tr>\n",
       "    <tr>\n",
       "      <th>41</th>\n",
       "      <td>South Dakota</td>\n",
       "      <td>80.0</td>\n",
       "      <td>20.7</td>\n",
       "      <td>21.5</td>\n",
       "      <td>22.3</td>\n",
       "      <td>22.0</td>\n",
       "      <td>21.8</td>\n",
       "      <td>3.0</td>\n",
       "      <td>612</td>\n",
       "      <td>603</td>\n",
       "      <td>1216</td>\n",
       "      <td>77.0</td>\n",
       "      <td>21.9</td>\n",
       "      <td>3.0</td>\n",
       "      <td>622</td>\n",
       "      <td>618</td>\n",
       "      <td>1240</td>\n",
       "    </tr>\n",
       "    <tr>\n",
       "      <th>48</th>\n",
       "      <td>West Virginia</td>\n",
       "      <td>69.0</td>\n",
       "      <td>20.0</td>\n",
       "      <td>19.4</td>\n",
       "      <td>21.2</td>\n",
       "      <td>20.5</td>\n",
       "      <td>20.4</td>\n",
       "      <td>14.0</td>\n",
       "      <td>558</td>\n",
       "      <td>528</td>\n",
       "      <td>1086</td>\n",
       "      <td>65.0</td>\n",
       "      <td>20.3</td>\n",
       "      <td>28.0</td>\n",
       "      <td>513</td>\n",
       "      <td>486</td>\n",
       "      <td>999</td>\n",
       "    </tr>\n",
       "  </tbody>\n",
       "</table>\n",
       "</div>"
      ],
      "text/plain": [
       "            state  act_2017participation  act_2017english  act_2017math  \\\n",
       "1          Alaska                   65.0             18.7          19.8   \n",
       "2         Arizona                   62.0             18.6          19.8   \n",
       "15           Iowa                   67.0             21.2          21.3   \n",
       "16         Kansas                   73.0             21.1          21.3   \n",
       "31     New Mexico                   66.0             18.6          19.4   \n",
       "37         Oregon                   40.0             21.2          21.5   \n",
       "41   South Dakota                   80.0             20.7          21.5   \n",
       "48  West Virginia                   69.0             20.0          19.4   \n",
       "\n",
       "    act_2017reading  act_2017science  act_2017composite  \\\n",
       "1              20.4             19.9               19.8   \n",
       "2              20.1             19.8               19.7   \n",
       "15             22.6             22.1               21.9   \n",
       "16             22.3             21.7               21.7   \n",
       "31             20.4             20.0               19.7   \n",
       "37             22.4             21.7               21.8   \n",
       "41             22.3             22.0               21.8   \n",
       "48             21.2             20.5               20.4   \n",
       "\n",
       "    sat_2017participation  sat_2017evidence-based_reading_and_writing  \\\n",
       "1                    38.0                                         547   \n",
       "2                    30.0                                         563   \n",
       "15                    2.0                                         641   \n",
       "16                    4.0                                         632   \n",
       "31                   11.0                                         577   \n",
       "37                   43.0                                         560   \n",
       "41                    3.0                                         612   \n",
       "48                   14.0                                         558   \n",
       "\n",
       "    sat_2017math  sat_2017total  act_2018participation  act_2018composite  \\\n",
       "1            533           1080                   33.0               20.8   \n",
       "2            553           1116                   66.0               19.2   \n",
       "15           635           1275                   68.0               21.8   \n",
       "16           628           1260                   71.0               21.6   \n",
       "31           561           1138                   66.0               19.4   \n",
       "37           548           1108                   42.0               21.3   \n",
       "41           603           1216                   77.0               21.9   \n",
       "48           528           1086                   65.0               20.3   \n",
       "\n",
       "    sat_2018participation  sat_2018evidence-based_reading_and_writing  \\\n",
       "1                    43.0                                         562   \n",
       "2                    29.0                                         577   \n",
       "15                    3.0                                         634   \n",
       "16                    4.0                                         633   \n",
       "31                   16.0                                         552   \n",
       "37                   48.0                                         564   \n",
       "41                    3.0                                         622   \n",
       "48                   28.0                                         513   \n",
       "\n",
       "    sat_2018math  sat_2018total  \n",
       "1            544           1106  \n",
       "2            572           1149  \n",
       "15           631           1265  \n",
       "16           631           1265  \n",
       "31           540           1093  \n",
       "37           553           1117  \n",
       "41           618           1240  \n",
       "48           486            999  "
      ]
     },
     "execution_count": 211,
     "metadata": {},
     "output_type": "execute_result"
    }
   ],
   "source": [
    "#Do any states with 100% participation on either test have a rate change from year-to-year?\n",
    "mask_100_pct_17_sat = (final['sat_2017participation'] == 100)\n",
    "final[mask_100_pct_17_sat]\n",
    "\n",
    "mask_100_pct_17_act = (final['act_2017participation'] == 100)\n",
    "final[mask_100_pct_17_act]\n",
    "\n",
    "mask_100_pct_18_sat = (final['sat_2018participation'] == 100)\n",
    "final[mask_100_pct_18_sat]\n",
    "\n",
    "mask_100_pct_18_act = (final['act_2018participation'] == 100)\n",
    "final[mask_100_pct_18_act]\n",
    "\n",
    "\n",
    "mask_not_100_pct = final['act_2018participation'] < 95\n",
    "final[mask_not_100_pct]\n",
    "mask_low_sat_pct = final['sat_2018participation'] < 50\n",
    "\n",
    "final[mask_low_sat_pct][mask_not_100_pct]"
   ]
  },
  {
   "cell_type": "markdown",
   "metadata": {},
   "source": [
    "SAT 2017 100% participation rate states: CT, DE, DC, MI\n",
    "SAT 2018 100% participation rate states: CO, CT, DE, ID, MI\n",
    "\n",
    "ACT 2017 100% participation rate states: AL, AK, CO, KY, LA, MN, MS, MO, MT, NV, NC, OK, SC, TN, UT, WI, WY\n",
    "ACT 2018 100% participation rate states: AL, AK, KY, LA, MS, MO, MT, NE, NV, NC, OH, OK, SC, TN, UT, WI, WY"
   ]
  },
  {
   "cell_type": "markdown",
   "metadata": {},
   "source": [
    "Apparent in the data is a switch from Colorado from 100% ACT Participation in 2017 to 100% SAT Participation in 2018, further research shows that this is due to a change in state contract, as the College Board (owners of the SAT) signed a new contract with the state of Colorado."
   ]
  },
  {
   "cell_type": "code",
   "execution_count": 163,
   "metadata": {},
   "outputs": [
    {
     "data": {
      "text/html": [
       "<div>\n",
       "<style scoped>\n",
       "    .dataframe tbody tr th:only-of-type {\n",
       "        vertical-align: middle;\n",
       "    }\n",
       "\n",
       "    .dataframe tbody tr th {\n",
       "        vertical-align: top;\n",
       "    }\n",
       "\n",
       "    .dataframe thead th {\n",
       "        text-align: right;\n",
       "    }\n",
       "</style>\n",
       "<table border=\"1\" class=\"dataframe\">\n",
       "  <thead>\n",
       "    <tr style=\"text-align: right;\">\n",
       "      <th></th>\n",
       "      <th>state</th>\n",
       "      <th>act_2017participation</th>\n",
       "      <th>act_2017english</th>\n",
       "      <th>act_2017math</th>\n",
       "      <th>act_2017reading</th>\n",
       "      <th>act_2017science</th>\n",
       "      <th>act_2017composite</th>\n",
       "      <th>sat_2017participation</th>\n",
       "      <th>sat_2017evidence-based_reading_and_writing</th>\n",
       "      <th>sat_2017math</th>\n",
       "      <th>sat_2017total</th>\n",
       "      <th>act_2018participation</th>\n",
       "      <th>act_2018composite</th>\n",
       "      <th>sat_2018participation</th>\n",
       "      <th>sat_2018evidence-based_reading_and_writing</th>\n",
       "      <th>sat_2018math</th>\n",
       "      <th>sat_2018total</th>\n",
       "    </tr>\n",
       "  </thead>\n",
       "  <tbody>\n",
       "    <tr>\n",
       "      <th>9</th>\n",
       "      <td>Florida</td>\n",
       "      <td>73.0</td>\n",
       "      <td>19.0</td>\n",
       "      <td>19.4</td>\n",
       "      <td>21.0</td>\n",
       "      <td>19.4</td>\n",
       "      <td>19.8</td>\n",
       "      <td>83.0</td>\n",
       "      <td>520</td>\n",
       "      <td>497</td>\n",
       "      <td>1017</td>\n",
       "      <td>66.0</td>\n",
       "      <td>19.9</td>\n",
       "      <td>56.0</td>\n",
       "      <td>550</td>\n",
       "      <td>549</td>\n",
       "      <td>1099</td>\n",
       "    </tr>\n",
       "    <tr>\n",
       "      <th>10</th>\n",
       "      <td>Georgia</td>\n",
       "      <td>55.0</td>\n",
       "      <td>21.0</td>\n",
       "      <td>20.9</td>\n",
       "      <td>22.0</td>\n",
       "      <td>21.3</td>\n",
       "      <td>21.4</td>\n",
       "      <td>61.0</td>\n",
       "      <td>535</td>\n",
       "      <td>515</td>\n",
       "      <td>1050</td>\n",
       "      <td>53.0</td>\n",
       "      <td>21.4</td>\n",
       "      <td>70.0</td>\n",
       "      <td>542</td>\n",
       "      <td>522</td>\n",
       "      <td>1064</td>\n",
       "    </tr>\n",
       "    <tr>\n",
       "      <th>11</th>\n",
       "      <td>Hawaii</td>\n",
       "      <td>90.0</td>\n",
       "      <td>17.8</td>\n",
       "      <td>19.2</td>\n",
       "      <td>19.2</td>\n",
       "      <td>19.3</td>\n",
       "      <td>19.0</td>\n",
       "      <td>55.0</td>\n",
       "      <td>544</td>\n",
       "      <td>541</td>\n",
       "      <td>1085</td>\n",
       "      <td>89.0</td>\n",
       "      <td>18.9</td>\n",
       "      <td>56.0</td>\n",
       "      <td>480</td>\n",
       "      <td>530</td>\n",
       "      <td>1010</td>\n",
       "    </tr>\n",
       "  </tbody>\n",
       "</table>\n",
       "</div>"
      ],
      "text/plain": [
       "      state  act_2017participation  act_2017english  act_2017math  \\\n",
       "9   Florida                   73.0             19.0          19.4   \n",
       "10  Georgia                   55.0             21.0          20.9   \n",
       "11   Hawaii                   90.0             17.8          19.2   \n",
       "\n",
       "    act_2017reading  act_2017science  act_2017composite  \\\n",
       "9              21.0             19.4               19.8   \n",
       "10             22.0             21.3               21.4   \n",
       "11             19.2             19.3               19.0   \n",
       "\n",
       "    sat_2017participation  sat_2017evidence-based_reading_and_writing  \\\n",
       "9                    83.0                                         520   \n",
       "10                   61.0                                         535   \n",
       "11                   55.0                                         544   \n",
       "\n",
       "    sat_2017math  sat_2017total  act_2018participation  act_2018composite  \\\n",
       "9            497           1017                   66.0               19.9   \n",
       "10           515           1050                   53.0               21.4   \n",
       "11           541           1085                   89.0               18.9   \n",
       "\n",
       "    sat_2018participation  sat_2018evidence-based_reading_and_writing  \\\n",
       "9                    56.0                                         550   \n",
       "10                   70.0                                         542   \n",
       "11                   56.0                                         480   \n",
       "\n",
       "    sat_2018math  sat_2018total  \n",
       "9            549           1099  \n",
       "10           522           1064  \n",
       "11           530           1010  "
      ]
     },
     "execution_count": 163,
     "metadata": {},
     "output_type": "execute_result"
    }
   ],
   "source": [
    "#Do any states shown have >50% participation on both tests either year?\n",
    "mask_50_pct = (final['act_2017participation'] >50) & (final['sat_2017participation'] > 50)\n",
    "final[mask_50_pct]"
   ]
  },
  {
   "cell_type": "markdown",
   "metadata": {},
   "source": [
    "Surprisingly, yes! There are 3 states that have over 50% participation rates for 2017: Hawaii, Georgia and Florida. These are states that we can identify as battleground states, or states in which there is currently a fight to be had between the two exams as to who will emerge the dominant force and collect the lion's share of the exam revenue. "
   ]
  },
  {
   "cell_type": "markdown",
   "metadata": {},
   "source": [
    "### Looking closer at Colorado and Illinois"
   ]
  },
  {
   "cell_type": "markdown",
   "metadata": {},
   "source": [
    "Colorado has a large swing from 2017 to 2018, most likely entirely due to a new contract acquired by the SAT in partnership with the state of Colorado. This resulted in a change of +89% for the SAT participation rates from 2017 to 2018(from 11% to 100%), and a corresponding change in ACT participation rates of -70% (from 100% to 30%).\n",
    "\n",
    "Illinois has a large change as well, also due to a new state contract signed with the SAT. This resulted in a change of +90% for the SAT participation rates from 2017 to 2018 (from 9% to 99%), and a corresponding change in ACT participation rates of -50% (from 93% to 43%)."
   ]
  },
  {
   "cell_type": "markdown",
   "metadata": {},
   "source": [
    "#### Utilizing Seaborn's heatmap to visualize correlations between all numeric features"
   ]
  },
  {
   "cell_type": "code",
   "execution_count": 44,
   "metadata": {},
   "outputs": [
    {
     "data": {
      "image/png": "[encoded data removed]",
      "text/plain": [
       "<Figure size 864x864 with 2 Axes>"
      ]
     },
     "metadata": {
      "needs_background": "light"
     },
     "output_type": "display_data"
    }
   ],
   "source": [
    "plt.figure(figsize=(12,12))\n",
    "sns.heatmap(final.corr(), annot=True, cmap=\"bone\");\n"
   ]
  },
  {
   "cell_type": "code",
   "execution_count": 45,
   "metadata": {},
   "outputs": [],
   "source": [
    "#defining a custom function to subplot histograms\n",
    "def subplot_histograms(dataframe, list_of_columns, list_of_titles, list_of_xlabels,y_label,x_label):\n",
    "    nrows = int(np.ceil(len(list_of_columns)/2)) # Makes sure you have enough rows\n",
    "    fig, ax = plt.subplots(nrows=nrows, ncols=2, figsize=(12,12))  \n",
    "    ax = ax.ravel() # Ravel turns a matrix into a vector, which is easier to iterate\n",
    "    for i, column in enumerate(list_of_columns): # Gives us an index value to get into all our lists\n",
    "        ax[i].hist(dataframe[column]) # feel free to add more settings\n",
    "        ax[i].set_ylabel(y_label, fontsize=10)\n",
    "        ax[i].set_xlabel(x_label, fontsize=10)\n",
    "        ax[i].set_title(column)\n",
    "    plt.tight_layout(pad=0.4, w_pad=0.5, h_pad=1.0)\n",
    "    # Set titles, labels, etc here for each subplot"
   ]
  },
  {
   "cell_type": "code",
   "execution_count": 184,
   "metadata": {},
   "outputs": [],
   "source": [
    "title_list = final_col_list"
   ]
  },
  {
   "cell_type": "code",
   "execution_count": 46,
   "metadata": {},
   "outputs": [],
   "source": [
    "final_col_list = list(final.columns)\n",
    "\n",
    "final_col_list\n",
    "participation_list = ['act_2017participation', 'sat_2017participation', 'act_2018participation', \n",
    "                      'sat_2018participation']\n",
    "math_list = ['act_2017math', 'sat_2017math','sat_2018math']\n",
    "\n",
    "#sample title list\n",
    "reading_verbal_list= ['act_2017reading', 'sat_2017evidence-based_reading_and_writing', 'sat_2018evidence-based_reading_and_writing']\n",
    "\n",
    "#sample list of xlabels\n",
    "x_labels = [5, 10, 15, 20, 25, 30, 35, 40, 45, 50, 55]"
   ]
  },
  {
   "cell_type": "markdown",
   "metadata": {},
   "source": [
    "### Participation rates for SAT & ACT"
   ]
  },
  {
   "cell_type": "code",
   "execution_count": 186,
   "metadata": {},
   "outputs": [
    {
     "data": {
      "image/png": "[encoded data removed]",
      "text/plain": [
       "<Figure size 864x864 with 4 Axes>"
      ]
     },
     "metadata": {
      "needs_background": "light"
     },
     "output_type": "display_data"
    }
   ],
   "source": [
    "subplot_histograms(final,participation_list, title_list, x_labels, '# of States', 'Participation %')\n"
   ]
  },
  {
   "cell_type": "markdown",
   "metadata": {},
   "source": [
    "These charts clearly show the bimodal distribution of the two distinct sections of the population, those who are forced to take the test vs those who are self selective in taking the test."
   ]
  },
  {
   "cell_type": "markdown",
   "metadata": {},
   "source": [
    "### Math scores for SAT & ACT"
   ]
  },
  {
   "cell_type": "code",
   "execution_count": 187,
   "metadata": {},
   "outputs": [
    {
     "data": {
      "text/html": [
       "<div>\n",
       "<style scoped>\n",
       "    .dataframe tbody tr th:only-of-type {\n",
       "        vertical-align: middle;\n",
       "    }\n",
       "\n",
       "    .dataframe tbody tr th {\n",
       "        vertical-align: top;\n",
       "    }\n",
       "\n",
       "    .dataframe thead th {\n",
       "        text-align: right;\n",
       "    }\n",
       "</style>\n",
       "<table border=\"1\" class=\"dataframe\">\n",
       "  <thead>\n",
       "    <tr style=\"text-align: right;\">\n",
       "      <th></th>\n",
       "      <th>act_2017participation</th>\n",
       "      <th>act_2017english</th>\n",
       "      <th>act_2017math</th>\n",
       "      <th>act_2017reading</th>\n",
       "      <th>act_2017science</th>\n",
       "      <th>act_2017composite</th>\n",
       "      <th>sat_2017participation</th>\n",
       "      <th>sat_2017evidence-based_reading_and_writing</th>\n",
       "      <th>sat_2017math</th>\n",
       "      <th>sat_2017total</th>\n",
       "      <th>act_2018participation</th>\n",
       "      <th>act_2018composite</th>\n",
       "      <th>sat_2018participation</th>\n",
       "      <th>sat_2018evidence-based_reading_and_writing</th>\n",
       "      <th>sat_2018math</th>\n",
       "      <th>sat_2018total</th>\n",
       "    </tr>\n",
       "  </thead>\n",
       "  <tbody>\n",
       "    <tr>\n",
       "      <th>count</th>\n",
       "      <td>51.000000</td>\n",
       "      <td>51.000000</td>\n",
       "      <td>51.000000</td>\n",
       "      <td>51.000000</td>\n",
       "      <td>51.000000</td>\n",
       "      <td>51.000000</td>\n",
       "      <td>51.000000</td>\n",
       "      <td>51.000000</td>\n",
       "      <td>51.000000</td>\n",
       "      <td>51.000000</td>\n",
       "      <td>51.000000</td>\n",
       "      <td>51.000000</td>\n",
       "      <td>51.000000</td>\n",
       "      <td>51.000000</td>\n",
       "      <td>51.000000</td>\n",
       "      <td>51.000000</td>\n",
       "    </tr>\n",
       "    <tr>\n",
       "      <th>mean</th>\n",
       "      <td>65.254902</td>\n",
       "      <td>20.931373</td>\n",
       "      <td>21.182353</td>\n",
       "      <td>22.013725</td>\n",
       "      <td>21.043137</td>\n",
       "      <td>21.519608</td>\n",
       "      <td>39.803922</td>\n",
       "      <td>569.117647</td>\n",
       "      <td>556.882353</td>\n",
       "      <td>1126.098039</td>\n",
       "      <td>61.627451</td>\n",
       "      <td>21.498039</td>\n",
       "      <td>45.745098</td>\n",
       "      <td>563.686275</td>\n",
       "      <td>556.235294</td>\n",
       "      <td>1120.019608</td>\n",
       "    </tr>\n",
       "    <tr>\n",
       "      <th>std</th>\n",
       "      <td>32.140842</td>\n",
       "      <td>2.353677</td>\n",
       "      <td>1.981989</td>\n",
       "      <td>2.067271</td>\n",
       "      <td>3.184164</td>\n",
       "      <td>2.020695</td>\n",
       "      <td>35.276632</td>\n",
       "      <td>45.666901</td>\n",
       "      <td>47.121395</td>\n",
       "      <td>92.494812</td>\n",
       "      <td>34.078122</td>\n",
       "      <td>2.117686</td>\n",
       "      <td>37.314256</td>\n",
       "      <td>47.502627</td>\n",
       "      <td>47.772623</td>\n",
       "      <td>94.155083</td>\n",
       "    </tr>\n",
       "    <tr>\n",
       "      <th>min</th>\n",
       "      <td>8.000000</td>\n",
       "      <td>16.300000</td>\n",
       "      <td>18.000000</td>\n",
       "      <td>18.100000</td>\n",
       "      <td>2.300000</td>\n",
       "      <td>17.800000</td>\n",
       "      <td>2.000000</td>\n",
       "      <td>482.000000</td>\n",
       "      <td>468.000000</td>\n",
       "      <td>950.000000</td>\n",
       "      <td>7.000000</td>\n",
       "      <td>17.700000</td>\n",
       "      <td>2.000000</td>\n",
       "      <td>480.000000</td>\n",
       "      <td>480.000000</td>\n",
       "      <td>977.000000</td>\n",
       "    </tr>\n",
       "    <tr>\n",
       "      <th>25%</th>\n",
       "      <td>31.000000</td>\n",
       "      <td>19.000000</td>\n",
       "      <td>19.400000</td>\n",
       "      <td>20.450000</td>\n",
       "      <td>19.900000</td>\n",
       "      <td>19.800000</td>\n",
       "      <td>4.000000</td>\n",
       "      <td>533.500000</td>\n",
       "      <td>523.500000</td>\n",
       "      <td>1055.500000</td>\n",
       "      <td>28.500000</td>\n",
       "      <td>19.950000</td>\n",
       "      <td>4.500000</td>\n",
       "      <td>534.500000</td>\n",
       "      <td>522.500000</td>\n",
       "      <td>1057.500000</td>\n",
       "    </tr>\n",
       "    <tr>\n",
       "      <th>50%</th>\n",
       "      <td>69.000000</td>\n",
       "      <td>20.700000</td>\n",
       "      <td>20.900000</td>\n",
       "      <td>21.800000</td>\n",
       "      <td>21.300000</td>\n",
       "      <td>21.400000</td>\n",
       "      <td>38.000000</td>\n",
       "      <td>559.000000</td>\n",
       "      <td>548.000000</td>\n",
       "      <td>1107.000000</td>\n",
       "      <td>66.000000</td>\n",
       "      <td>21.300000</td>\n",
       "      <td>52.000000</td>\n",
       "      <td>552.000000</td>\n",
       "      <td>544.000000</td>\n",
       "      <td>1098.000000</td>\n",
       "    </tr>\n",
       "    <tr>\n",
       "      <th>75%</th>\n",
       "      <td>100.000000</td>\n",
       "      <td>23.300000</td>\n",
       "      <td>23.100000</td>\n",
       "      <td>24.150000</td>\n",
       "      <td>22.750000</td>\n",
       "      <td>23.600000</td>\n",
       "      <td>66.000000</td>\n",
       "      <td>613.000000</td>\n",
       "      <td>599.000000</td>\n",
       "      <td>1212.000000</td>\n",
       "      <td>100.000000</td>\n",
       "      <td>23.650000</td>\n",
       "      <td>77.500000</td>\n",
       "      <td>610.500000</td>\n",
       "      <td>593.500000</td>\n",
       "      <td>1204.000000</td>\n",
       "    </tr>\n",
       "    <tr>\n",
       "      <th>max</th>\n",
       "      <td>100.000000</td>\n",
       "      <td>25.500000</td>\n",
       "      <td>25.300000</td>\n",
       "      <td>26.000000</td>\n",
       "      <td>24.900000</td>\n",
       "      <td>25.500000</td>\n",
       "      <td>100.000000</td>\n",
       "      <td>644.000000</td>\n",
       "      <td>651.000000</td>\n",
       "      <td>1295.000000</td>\n",
       "      <td>100.000000</td>\n",
       "      <td>25.600000</td>\n",
       "      <td>100.000000</td>\n",
       "      <td>643.000000</td>\n",
       "      <td>655.000000</td>\n",
       "      <td>1298.000000</td>\n",
       "    </tr>\n",
       "  </tbody>\n",
       "</table>\n",
       "</div>"
      ],
      "text/plain": [
       "       act_2017participation  act_2017english  act_2017math  act_2017reading  \\\n",
       "count              51.000000        51.000000     51.000000        51.000000   \n",
       "mean               65.254902        20.931373     21.182353        22.013725   \n",
       "std                32.140842         2.353677      1.981989         2.067271   \n",
       "min                 8.000000        16.300000     18.000000        18.100000   \n",
       "25%                31.000000        19.000000     19.400000        20.450000   \n",
       "50%                69.000000        20.700000     20.900000        21.800000   \n",
       "75%               100.000000        23.300000     23.100000        24.150000   \n",
       "max               100.000000        25.500000     25.300000        26.000000   \n",
       "\n",
       "       act_2017science  act_2017composite  sat_2017participation  \\\n",
       "count        51.000000          51.000000              51.000000   \n",
       "mean         21.043137          21.519608              39.803922   \n",
       "std           3.184164           2.020695              35.276632   \n",
       "min           2.300000          17.800000               2.000000   \n",
       "25%          19.900000          19.800000               4.000000   \n",
       "50%          21.300000          21.400000              38.000000   \n",
       "75%          22.750000          23.600000              66.000000   \n",
       "max          24.900000          25.500000             100.000000   \n",
       "\n",
       "       sat_2017evidence-based_reading_and_writing  sat_2017math  \\\n",
       "count                                   51.000000     51.000000   \n",
       "mean                                   569.117647    556.882353   \n",
       "std                                     45.666901     47.121395   \n",
       "min                                    482.000000    468.000000   \n",
       "25%                                    533.500000    523.500000   \n",
       "50%                                    559.000000    548.000000   \n",
       "75%                                    613.000000    599.000000   \n",
       "max                                    644.000000    651.000000   \n",
       "\n",
       "       sat_2017total  act_2018participation  act_2018composite  \\\n",
       "count      51.000000              51.000000          51.000000   \n",
       "mean     1126.098039              61.627451          21.498039   \n",
       "std        92.494812              34.078122           2.117686   \n",
       "min       950.000000               7.000000          17.700000   \n",
       "25%      1055.500000              28.500000          19.950000   \n",
       "50%      1107.000000              66.000000          21.300000   \n",
       "75%      1212.000000             100.000000          23.650000   \n",
       "max      1295.000000             100.000000          25.600000   \n",
       "\n",
       "       sat_2018participation  sat_2018evidence-based_reading_and_writing  \\\n",
       "count              51.000000                                   51.000000   \n",
       "mean               45.745098                                  563.686275   \n",
       "std                37.314256                                   47.502627   \n",
       "min                 2.000000                                  480.000000   \n",
       "25%                 4.500000                                  534.500000   \n",
       "50%                52.000000                                  552.000000   \n",
       "75%                77.500000                                  610.500000   \n",
       "max               100.000000                                  643.000000   \n",
       "\n",
       "       sat_2018math  sat_2018total  \n",
       "count     51.000000      51.000000  \n",
       "mean     556.235294    1120.019608  \n",
       "std       47.772623      94.155083  \n",
       "min      480.000000     977.000000  \n",
       "25%      522.500000    1057.500000  \n",
       "50%      544.000000    1098.000000  \n",
       "75%      593.500000    1204.000000  \n",
       "max      655.000000    1298.000000  "
      ]
     },
     "execution_count": 187,
     "metadata": {},
     "output_type": "execute_result"
    }
   ],
   "source": [
    "#examine the \n",
    "final.describe()"
   ]
  },
  {
   "cell_type": "code",
   "execution_count": 188,
   "metadata": {},
   "outputs": [
    {
     "data": {
      "image/png": "[encoded data removed]",
      "text/plain": [
       "<Figure size 864x864 with 4 Axes>"
      ]
     },
     "metadata": {
      "needs_background": "light"
     },
     "output_type": "display_data"
    }
   ],
   "source": [
    "# Math scores for SAT & ACT\n",
    "subplot_histograms(final, math_list, title_list, x_labels, '# of States', 'Score')"
   ]
  },
  {
   "cell_type": "markdown",
   "metadata": {},
   "source": [
    "Very similar to the ACT participation/score relationship of the prior charts. These charts clearly show the bimodal distribution of the two distinct sections of the population, those who are forced to take the test vs those who are self selective in taking the test."
   ]
  },
  {
   "cell_type": "markdown",
   "metadata": {},
   "source": [
    "### Reading/verbal scores for SAT & ACT"
   ]
  },
  {
   "cell_type": "code",
   "execution_count": null,
   "metadata": {},
   "outputs": [],
   "source": [
    "subplot_histograms(final, reading_verbal_list, title_list, x_labels, '# of States', 'Score')"
   ]
  },
  {
   "cell_type": "code",
   "execution_count": 190,
   "metadata": {},
   "outputs": [],
   "source": [
    "# defining a function to show a scatterplot based on inputted axes\n",
    "def scatter_plot(x_axis, y_axis, title, ylabel, xlabel):\n",
    "    plt.scatter(x_axis,   # X axis\n",
    "            y_axis) # Y axis\n",
    "    plt.title(title, fontsize = 20)\n",
    "    plt.ylabel(ylabel, fontsize = 15)\n",
    "    plt.xlabel(xlabel, fontsize = 15);"
   ]
  },
  {
   "cell_type": "markdown",
   "metadata": {},
   "source": [
    "### SAT vs. ACT math scores for 2017"
   ]
  },
  {
   "cell_type": "code",
   "execution_count": 191,
   "metadata": {},
   "outputs": [
    {
     "name": "stderr",
     "output_type": "stream",
     "text": [
      "/anaconda3/lib/python3.7/site-packages/scipy/stats/stats.py:1713: FutureWarning: Using a non-tuple sequence for multidimensional indexing is deprecated; use `arr[tuple(seq)]` instead of `arr[seq]`. In the future this will be interpreted as an array index, `arr[np.array(seq)]`, which will result either in an error or a different result.\n",
      "  return np.add.reduce(sorted[indexer] * weights, axis=axis) / sumval\n"
     ]
    },
    {
     "data": {
      "text/plain": [
       "<matplotlib.axes._subplots.AxesSubplot at 0x1a1d56b908>"
      ]
     },
     "execution_count": 191,
     "metadata": {},
     "output_type": "execute_result"
    },
    {
     "data": {
      "image/png": "[encoded data removed]",
      "text/plain": [
       "<Figure size 432x288 with 1 Axes>"
      ]
     },
     "metadata": {
      "needs_background": "light"
     },
     "output_type": "display_data"
    }
   ],
   "source": [
    "scatter_plot(final['sat_2017math'],final['act_2017math'], 'ACT vs SAT Math: 2017', 'ACT Math', 'SAT Math')\n",
    "sns.regplot('sat_2017math', 'act_2017math', data= final)"
   ]
  },
  {
   "cell_type": "markdown",
   "metadata": {},
   "source": [
    "This scatterplot clearly shows a negative correlation between ACT and SAT Math scores for the 2017 testing year. The line of best fit has a slope of -0.42, which means that for every point increase in one test, there would be a corresponding 0.42 point decrease (on average) for the other test."
   ]
  },
  {
   "cell_type": "markdown",
   "metadata": {},
   "source": [
    "### SAT vs. ACT verbal/reading scores for 2017"
   ]
  },
  {
   "cell_type": "code",
   "execution_count": 192,
   "metadata": {
    "scrolled": false
   },
   "outputs": [
    {
     "data": {
      "image/png": "[encoded data removed]",
      "text/plain": [
       "<Figure size 432x288 with 1 Axes>"
      ]
     },
     "metadata": {
      "needs_background": "light"
     },
     "output_type": "display_data"
    }
   ],
   "source": [
    "scatter_plot(final['sat_2017evidence-based_reading_and_writing'],final['act_2017english'], 'Verbal/Reading Scores, 2017', 'ACT English', 'SAT Reading and Writing')\n"
   ]
  },
  {
   "cell_type": "markdown",
   "metadata": {},
   "source": [
    "INTERPRETATION: Although I was unable to plot the line of best fit for this scatterplot, referencing the heatmap from prior shows us a correlation of -0.46. "
   ]
  },
  {
   "cell_type": "markdown",
   "metadata": {},
   "source": [
    "### SAT vs. ACT total/composite scores for 2017"
   ]
  },
  {
   "cell_type": "code",
   "execution_count": 214,
   "metadata": {},
   "outputs": [
    {
     "data": {
      "image/png": "[encoded data removed]",
      "text/plain": [
       "<Figure size 432x288 with 1 Axes>"
      ]
     },
     "metadata": {
      "needs_background": "light"
     },
     "output_type": "display_data"
    }
   ],
   "source": [
    "scatter_plot(final['sat_2017total'],final['act_2017composite'], 'Total/Composite Scores, 2017', 'ACT Composite', 'SAT Total')\n",
    "sns.regplot('sat_2017total', 'act_2017composite', data=final);"
   ]
  },
  {
   "cell_type": "markdown",
   "metadata": {},
   "source": [
    "INTERPRETATION:\n",
    "This graph shows a midlevel negative correlation between ACT 2017 Composite scores and SAT 2017 Total scores. By looking at the heatmap prior, it shows a -0.45 corr. This means that for every 1 point increase in the score of one of these tests, there is a correlating 0.45 score decrease for the other test."
   ]
  },
  {
   "cell_type": "markdown",
   "metadata": {},
   "source": [
    "### Total scores for SAT 2017 vs. 2018"
   ]
  },
  {
   "cell_type": "code",
   "execution_count": 215,
   "metadata": {},
   "outputs": [
    {
     "data": {
      "image/png": "[encoded data removed]",
      "text/plain": [
       "<Figure size 432x288 with 1 Axes>"
      ]
     },
     "metadata": {
      "needs_background": "light"
     },
     "output_type": "display_data"
    }
   ],
   "source": [
    "scatter_plot(final['sat_2017total'],final['sat_2018total'], 'SAT Total Scores: 2017 vs 2018', 'Total 2018', 'Total 2017')\n",
    "sns.regplot('sat_2017total', 'sat_2018total', data=final);"
   ]
  },
  {
   "cell_type": "markdown",
   "metadata": {},
   "source": [
    "INTERPRETATION: There is a very strong, positive correlation of 0.88 between the data sets for SAT Total Scores for 2017 and 2018. This makes sense, as theoretically there wouldn't be a large change in year over year trends, without structural changes to the test or within the population taking the test itself. "
   ]
  },
  {
   "cell_type": "markdown",
   "metadata": {},
   "source": [
    "### Composite scores for ACT 2017 vs. 2018"
   ]
  },
  {
   "cell_type": "code",
   "execution_count": 216,
   "metadata": {},
   "outputs": [
    {
     "data": {
      "image/png": "[encoded data removed]",
      "text/plain": [
       "<Figure size 432x288 with 1 Axes>"
      ]
     },
     "metadata": {
      "needs_background": "light"
     },
     "output_type": "display_data"
    }
   ],
   "source": [
    "scatter_plot(final['act_2017composite'], final['act_2018composite'], 'ACT Composite Scores: 2017 vs 2018', '2018 Total', '2017 Total')\n",
    "sns.regplot('act_2017composite', 'act_2018composite', data=final);"
   ]
  },
  {
   "cell_type": "markdown",
   "metadata": {},
   "source": [
    "INTERPRETATION: There is a very strong, positive correlation of 0.94 between the data sets for ACT Total Scores for 2017 and 2018. This makes sense, as theoretically there wouldn't be a large change in year over year trends, without structural changes to the test or within the population taking the test itself. "
   ]
  },
  {
   "cell_type": "code",
   "execution_count": 202,
   "metadata": {},
   "outputs": [
    {
     "data": {
      "image/png": "[encoded data removed]",
      "text/plain": [
       "<Figure size 432x288 with 1 Axes>"
      ]
     },
     "metadata": {
      "needs_background": "light"
     },
     "output_type": "display_data"
    }
   ],
   "source": [
    "# SAT 2017 Total vs SAT 2018 Total\n",
    "sns.boxplot(data=final[['sat_2017total','sat_2018total']]).set_title('SAT Total 2017 vs 2018',  size= 18);\n",
    "plt.ylabel(\"SAT Total Score\");\n",
    "plt.xlabel(\"Data Sets\", size= 14);"
   ]
  },
  {
   "cell_type": "markdown",
   "metadata": {},
   "source": [
    "INTERPRETATION: There was very little that changed from the SAT Totals of 2017 to 2018. The lower range rose, from ~950 to ~975, but the upper IQR decreased slightly."
   ]
  },
  {
   "cell_type": "code",
   "execution_count": 203,
   "metadata": {},
   "outputs": [
    {
     "data": {
      "image/png": "[encoded data removed]",
      "text/plain": [
       "<Figure size 432x288 with 1 Axes>"
      ]
     },
     "metadata": {
      "needs_background": "light"
     },
     "output_type": "display_data"
    }
   ],
   "source": [
    "# ACT 2017 Composite vs ACT 2018 Composite\n",
    "sns.boxplot(data=final[['act_2017composite','act_2018composite']]).set_title('ACT Composite 2017 vs 2018', size= 18);\n",
    "plt.ylabel(\"ACT Composite Score\");\n",
    "plt.xlabel(\"Data Sets\", size=14);"
   ]
  },
  {
   "cell_type": "markdown",
   "metadata": {},
   "source": [
    "INTERPRETATIONS: The boxplot for ACT Composite scores from 2017 to 2018 also is nearly identical, but with a very slight overall increase in scores. "
   ]
  },
  {
   "cell_type": "markdown",
   "metadata": {},
   "source": [
    "## Descriptive and Inferential Statistics"
   ]
  },
  {
   "cell_type": "markdown",
   "metadata": {},
   "source": [
    "#### We generally assuming that data we sample from a population will be normally distributed. Do we observe this trend?"
   ]
  },
  {
   "cell_type": "markdown",
   "metadata": {},
   "source": [
    "In our observations, no not really, as it more closely resembles a bimodal distribution. This is where there are two distinct sections of the population."
   ]
  },
  {
   "cell_type": "markdown",
   "metadata": {},
   "source": [
    "#### Estimate Limits of Data\n",
    "\n",
    "Suppose we only seek to understand the relationship between SAT and ACT participation rates in 2017. \n",
    "\n",
    "##### Does it make sense to conduct statistical inference given these data specifically? \n",
    "**Response:** No, as inferential statistics deals with an observed sample set from a larger population, and then applying statistical analysis to the sample set to derive insights about the total population. As we are working with a full population's dataset of test data for both SAT and ACT for the years of 2017 and 2018, it doesn't make sense to utilize inferential statistics."
   ]
  },
  {
   "cell_type": "markdown",
   "metadata": {},
   "source": [
    "##### Is it appropriate to compare *these* specific SAT and ACT math scores? \n",
    "\n",
    "No, as there is no common scale currently on which to judge them. We would need to assign percentiles in order to compare them on similar scale."
   ]
  },
  {
   "cell_type": "markdown",
   "metadata": {},
   "source": [
    "## Outside Research"
   ]
  },
  {
   "cell_type": "markdown",
   "metadata": {},
   "source": [
    "### Illinois: \n",
    "Illinois has a large change as well, also due to a new state contract signed with the SAT. This resulted in a change of +90% for the SAT participation rates from 2017 to 2018 (from 9% to 99%), and a corresponding change in ACT participation rates of -50% (from 93% to 43%). As expected, the SAT test score mean Total fell, from 1115 to 1019, while the ACT test Composite mean score rose from 21.4% to 23.9%.   https://chalkbeat.org/posts/chicago/2018/07/27/act-protests-state-boards-embrace-of-rival-test-provider/\n",
    "\n",
    "### Colorado: \n",
    "Colorado has a large swing from 2017 to 2018, most likely entirely due to a new contract acquired by the SAT in partnership with the state of Colorado. This resulted in a change of +89% for the SAT participation rates from 2017 to 2018(from 11% to 100%), and a corresponding change in ACT participation rates of -70% (from 100% to 30%). As expected, the SAT test score mean Total fell, from 1201 to 1025.\n",
    "\"SAT usage also spiked in Colorado because of a contract with the College Board. There, 58,790 in the Class of 2018 took the test, 10 times the total of the previous year.\" https://www.washingtonpost.com/education/2018/10/23/sat-reclaims-title-most-widely-used-college-admission-test/\n",
    "\n",
    "\n",
    "### Rhode Island\n",
    "Rhode Island had a large change recently, from 71% to 97% participation on the SAT- while ACT participation fell from 21% to 15%. This was due to changes in the requirements for state testing, which became a part of the state's federal education plan. As expected, the SAT test score mean Total fell, from 1062 to 1018, while the ACT test Composite mean score rose from 24% to 24.2%.\n",
    "\n",
    "\n",
    "https://www.providencejournal.com/news/20181025/with-sat-required-ri-sees-jump-in-participation-decline-in-scores\n"
   ]
  },
  {
   "cell_type": "markdown",
   "metadata": {},
   "source": [
    "## Conclusions and Recommendations"
   ]
  },
  {
   "cell_type": "markdown",
   "metadata": {},
   "source": [
    "Based on your exploration of the data, what are your key takeaways and recommendations? Choose one state with a lower participation rate and provide a suggestion for how the College Board might increase participation amongst graduating seniors in this state. Are there additional data you desire that would better inform your investigations?"
   ]
  },
  {
   "cell_type": "markdown",
   "metadata": {},
   "source": [
    "The data clearly shows that there is intense competition between the SAT and ACT tests, but it is best to focus on states that do not have any set agreements. There are a handful of states that have no such contracts, yet have high participation in both tests: Florida, Georgia and Hawaii are three that could generate large returns for the effort.\n",
    "\n",
    "If possible, the ideal situation for the SAT would be: to be a part of the success metric for students, schools, cities, AND states, making it impossible for every level to ignore the impact of the test's importance. In states where there is a clear tie to success, such as Illinois, there are also metrics that incorporate the test scores at the city and school level as well. These are tied to future things such as state and federal funding, so it would make sense for the schools and cities to do as much as they can to speed up adoption of the test.\n",
    "\n",
    "The states that I would recommend looking into for potential contracts would be: Alaska, Arizona, Iowa, Kansas, New Mexico, Oregon, South Dakota, West Virginia. These are states that have low SAT participation rates as of 2018 and there are no contracts in place. \n",
    "\n",
    "The recommendation would be to get as close to the prior mentioned ideal situation as possible. This means locking up a multi-year contract with the state, becoming an integral part of the success metrics for schools, cities and the state itself, and finally mandating pre-SAT (PSAT) starting as early as 9th grade. These steps would ensure revenue generation for at least the duration of the contract."
   ]
  }
 ],
 "metadata": {
  "anaconda-cloud": {},
  "kernelspec": {
   "display_name": "Python 3",
   "language": "python",
   "name": "python3"
  },
  "language_info": {
   "codemirror_mode": {
    "name": "ipython",
    "version": 3
   },
   "file_extension": ".py",
   "mimetype": "text/x-python",
   "name": "python",
   "nbconvert_exporter": "python",
   "pygments_lexer": "ipython3",
   "version": "3.7.1"
  }
 },
 "nbformat": 4,
 "nbformat_minor": 2
}
